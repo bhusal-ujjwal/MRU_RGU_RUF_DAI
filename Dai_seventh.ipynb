{
  "nbformat": 4,
  "nbformat_minor": 0,
  "metadata": {
    "colab": {
      "provenance": []
    },
    "kernelspec": {
      "name": "python3",
      "display_name": "Python 3"
    },
    "language_info": {
      "name": "python"
    }
  },
  "cells": [
    {
      "cell_type": "code",
      "source": [
        "# Import Libraries\n",
        "import pandas as pd\n",
        "import numpy as np\n",
        "import matplotlib.pyplot as plt\n",
        "import seaborn as sns\n",
        "from scipy.stats import norm, chi2_contingency\n",
        "from sklearn.metrics import roc_curve, auc\n",
        "from google.colab import files\n",
        "from scipy import stats"
      ],
      "metadata": {
        "id": "OdEEM-haqz8F"
      },
      "execution_count": null,
      "outputs": []
    },
    {
      "cell_type": "code",
      "source": [
        "# Upload csv file to colab for using it\n",
        "upload_file = files.upload()"
      ],
      "metadata": {
        "colab": {
          "base_uri": "https://localhost:8080/",
          "height": 73
        },
        "id": "-Bm1EwQAlT-B",
        "outputId": "611bcc4d-ab33-48bd-dceb-d6740b2c361e"
      },
      "execution_count": null,
      "outputs": [
        {
          "output_type": "display_data",
          "data": {
            "text/plain": [
              "<IPython.core.display.HTML object>"
            ],
            "text/html": [
              "\n",
              "     <input type=\"file\" id=\"files-226dcab6-14fb-4221-baae-2d3456ac25fa\" name=\"files[]\" multiple disabled\n",
              "        style=\"border:none\" />\n",
              "     <output id=\"result-226dcab6-14fb-4221-baae-2d3456ac25fa\">\n",
              "      Upload widget is only available when the cell has been executed in the\n",
              "      current browser session. Please rerun this cell to enable.\n",
              "      </output>\n",
              "      <script>// Copyright 2017 Google LLC\n",
              "//\n",
              "// Licensed under the Apache License, Version 2.0 (the \"License\");\n",
              "// you may not use this file except in compliance with the License.\n",
              "// You may obtain a copy of the License at\n",
              "//\n",
              "//      http://www.apache.org/licenses/LICENSE-2.0\n",
              "//\n",
              "// Unless required by applicable law or agreed to in writing, software\n",
              "// distributed under the License is distributed on an \"AS IS\" BASIS,\n",
              "// WITHOUT WARRANTIES OR CONDITIONS OF ANY KIND, either express or implied.\n",
              "// See the License for the specific language governing permissions and\n",
              "// limitations under the License.\n",
              "\n",
              "/**\n",
              " * @fileoverview Helpers for google.colab Python module.\n",
              " */\n",
              "(function(scope) {\n",
              "function span(text, styleAttributes = {}) {\n",
              "  const element = document.createElement('span');\n",
              "  element.textContent = text;\n",
              "  for (const key of Object.keys(styleAttributes)) {\n",
              "    element.style[key] = styleAttributes[key];\n",
              "  }\n",
              "  return element;\n",
              "}\n",
              "\n",
              "// Max number of bytes which will be uploaded at a time.\n",
              "const MAX_PAYLOAD_SIZE = 100 * 1024;\n",
              "\n",
              "function _uploadFiles(inputId, outputId) {\n",
              "  const steps = uploadFilesStep(inputId, outputId);\n",
              "  const outputElement = document.getElementById(outputId);\n",
              "  // Cache steps on the outputElement to make it available for the next call\n",
              "  // to uploadFilesContinue from Python.\n",
              "  outputElement.steps = steps;\n",
              "\n",
              "  return _uploadFilesContinue(outputId);\n",
              "}\n",
              "\n",
              "// This is roughly an async generator (not supported in the browser yet),\n",
              "// where there are multiple asynchronous steps and the Python side is going\n",
              "// to poll for completion of each step.\n",
              "// This uses a Promise to block the python side on completion of each step,\n",
              "// then passes the result of the previous step as the input to the next step.\n",
              "function _uploadFilesContinue(outputId) {\n",
              "  const outputElement = document.getElementById(outputId);\n",
              "  const steps = outputElement.steps;\n",
              "\n",
              "  const next = steps.next(outputElement.lastPromiseValue);\n",
              "  return Promise.resolve(next.value.promise).then((value) => {\n",
              "    // Cache the last promise value to make it available to the next\n",
              "    // step of the generator.\n",
              "    outputElement.lastPromiseValue = value;\n",
              "    return next.value.response;\n",
              "  });\n",
              "}\n",
              "\n",
              "/**\n",
              " * Generator function which is called between each async step of the upload\n",
              " * process.\n",
              " * @param {string} inputId Element ID of the input file picker element.\n",
              " * @param {string} outputId Element ID of the output display.\n",
              " * @return {!Iterable<!Object>} Iterable of next steps.\n",
              " */\n",
              "function* uploadFilesStep(inputId, outputId) {\n",
              "  const inputElement = document.getElementById(inputId);\n",
              "  inputElement.disabled = false;\n",
              "\n",
              "  const outputElement = document.getElementById(outputId);\n",
              "  outputElement.innerHTML = '';\n",
              "\n",
              "  const pickedPromise = new Promise((resolve) => {\n",
              "    inputElement.addEventListener('change', (e) => {\n",
              "      resolve(e.target.files);\n",
              "    });\n",
              "  });\n",
              "\n",
              "  const cancel = document.createElement('button');\n",
              "  inputElement.parentElement.appendChild(cancel);\n",
              "  cancel.textContent = 'Cancel upload';\n",
              "  const cancelPromise = new Promise((resolve) => {\n",
              "    cancel.onclick = () => {\n",
              "      resolve(null);\n",
              "    };\n",
              "  });\n",
              "\n",
              "  // Wait for the user to pick the files.\n",
              "  const files = yield {\n",
              "    promise: Promise.race([pickedPromise, cancelPromise]),\n",
              "    response: {\n",
              "      action: 'starting',\n",
              "    }\n",
              "  };\n",
              "\n",
              "  cancel.remove();\n",
              "\n",
              "  // Disable the input element since further picks are not allowed.\n",
              "  inputElement.disabled = true;\n",
              "\n",
              "  if (!files) {\n",
              "    return {\n",
              "      response: {\n",
              "        action: 'complete',\n",
              "      }\n",
              "    };\n",
              "  }\n",
              "\n",
              "  for (const file of files) {\n",
              "    const li = document.createElement('li');\n",
              "    li.append(span(file.name, {fontWeight: 'bold'}));\n",
              "    li.append(span(\n",
              "        `(${file.type || 'n/a'}) - ${file.size} bytes, ` +\n",
              "        `last modified: ${\n",
              "            file.lastModifiedDate ? file.lastModifiedDate.toLocaleDateString() :\n",
              "                                    'n/a'} - `));\n",
              "    const percent = span('0% done');\n",
              "    li.appendChild(percent);\n",
              "\n",
              "    outputElement.appendChild(li);\n",
              "\n",
              "    const fileDataPromise = new Promise((resolve) => {\n",
              "      const reader = new FileReader();\n",
              "      reader.onload = (e) => {\n",
              "        resolve(e.target.result);\n",
              "      };\n",
              "      reader.readAsArrayBuffer(file);\n",
              "    });\n",
              "    // Wait for the data to be ready.\n",
              "    let fileData = yield {\n",
              "      promise: fileDataPromise,\n",
              "      response: {\n",
              "        action: 'continue',\n",
              "      }\n",
              "    };\n",
              "\n",
              "    // Use a chunked sending to avoid message size limits. See b/62115660.\n",
              "    let position = 0;\n",
              "    do {\n",
              "      const length = Math.min(fileData.byteLength - position, MAX_PAYLOAD_SIZE);\n",
              "      const chunk = new Uint8Array(fileData, position, length);\n",
              "      position += length;\n",
              "\n",
              "      const base64 = btoa(String.fromCharCode.apply(null, chunk));\n",
              "      yield {\n",
              "        response: {\n",
              "          action: 'append',\n",
              "          file: file.name,\n",
              "          data: base64,\n",
              "        },\n",
              "      };\n",
              "\n",
              "      let percentDone = fileData.byteLength === 0 ?\n",
              "          100 :\n",
              "          Math.round((position / fileData.byteLength) * 100);\n",
              "      percent.textContent = `${percentDone}% done`;\n",
              "\n",
              "    } while (position < fileData.byteLength);\n",
              "  }\n",
              "\n",
              "  // All done.\n",
              "  yield {\n",
              "    response: {\n",
              "      action: 'complete',\n",
              "    }\n",
              "  };\n",
              "}\n",
              "\n",
              "scope.google = scope.google || {};\n",
              "scope.google.colab = scope.google.colab || {};\n",
              "scope.google.colab._files = {\n",
              "  _uploadFiles,\n",
              "  _uploadFilesContinue,\n",
              "};\n",
              "})(self);\n",
              "</script> "
            ]
          },
          "metadata": {}
        },
        {
          "output_type": "stream",
          "name": "stdout",
          "text": [
            "Saving Dai_seventh_task.csv to Dai_seventh_task (1).csv\n"
          ]
        }
      ]
    },
    {
      "cell_type": "code",
      "source": [
        "# Use the uploaded file in colab\n",
        "ruf7 = pd.read_csv(\"Dai_seventh_task.csv\")\n",
        "ruf7.head()"
      ],
      "metadata": {
        "colab": {
          "base_uri": "https://localhost:8080/",
          "height": 206
        },
        "id": "bZZDQEg9lUtZ",
        "outputId": "aced2d5c-2cb3-440f-cf3e-12b78d7b9c82"
      },
      "execution_count": null,
      "outputs": [
        {
          "output_type": "execute_result",
          "data": {
            "text/plain": [
              "   Pubourethral_stump_l_MRU  Surgical_Steps\n",
              "0                      2.38               1\n",
              "1                      3.11               1\n",
              "2                      2.46               1\n",
              "3                      2.07               1\n",
              "4                      2.79               2"
            ],
            "text/html": [
              "\n",
              "  <div id=\"df-b4c2683d-5540-46d3-a816-dc4c4227ec1d\" class=\"colab-df-container\">\n",
              "    <div>\n",
              "<style scoped>\n",
              "    .dataframe tbody tr th:only-of-type {\n",
              "        vertical-align: middle;\n",
              "    }\n",
              "\n",
              "    .dataframe tbody tr th {\n",
              "        vertical-align: top;\n",
              "    }\n",
              "\n",
              "    .dataframe thead th {\n",
              "        text-align: right;\n",
              "    }\n",
              "</style>\n",
              "<table border=\"1\" class=\"dataframe\">\n",
              "  <thead>\n",
              "    <tr style=\"text-align: right;\">\n",
              "      <th></th>\n",
              "      <th>Pubourethral_stump_l_MRU</th>\n",
              "      <th>Surgical_Steps</th>\n",
              "    </tr>\n",
              "  </thead>\n",
              "  <tbody>\n",
              "    <tr>\n",
              "      <th>0</th>\n",
              "      <td>2.38</td>\n",
              "      <td>1</td>\n",
              "    </tr>\n",
              "    <tr>\n",
              "      <th>1</th>\n",
              "      <td>3.11</td>\n",
              "      <td>1</td>\n",
              "    </tr>\n",
              "    <tr>\n",
              "      <th>2</th>\n",
              "      <td>2.46</td>\n",
              "      <td>1</td>\n",
              "    </tr>\n",
              "    <tr>\n",
              "      <th>3</th>\n",
              "      <td>2.07</td>\n",
              "      <td>1</td>\n",
              "    </tr>\n",
              "    <tr>\n",
              "      <th>4</th>\n",
              "      <td>2.79</td>\n",
              "      <td>2</td>\n",
              "    </tr>\n",
              "  </tbody>\n",
              "</table>\n",
              "</div>\n",
              "    <div class=\"colab-df-buttons\">\n",
              "\n",
              "  <div class=\"colab-df-container\">\n",
              "    <button class=\"colab-df-convert\" onclick=\"convertToInteractive('df-b4c2683d-5540-46d3-a816-dc4c4227ec1d')\"\n",
              "            title=\"Convert this dataframe to an interactive table.\"\n",
              "            style=\"display:none;\">\n",
              "\n",
              "  <svg xmlns=\"http://www.w3.org/2000/svg\" height=\"24px\" viewBox=\"0 -960 960 960\">\n",
              "    <path d=\"M120-120v-720h720v720H120Zm60-500h600v-160H180v160Zm220 220h160v-160H400v160Zm0 220h160v-160H400v160ZM180-400h160v-160H180v160Zm440 0h160v-160H620v160ZM180-180h160v-160H180v160Zm440 0h160v-160H620v160Z\"/>\n",
              "  </svg>\n",
              "    </button>\n",
              "\n",
              "  <style>\n",
              "    .colab-df-container {\n",
              "      display:flex;\n",
              "      gap: 12px;\n",
              "    }\n",
              "\n",
              "    .colab-df-convert {\n",
              "      background-color: #E8F0FE;\n",
              "      border: none;\n",
              "      border-radius: 50%;\n",
              "      cursor: pointer;\n",
              "      display: none;\n",
              "      fill: #1967D2;\n",
              "      height: 32px;\n",
              "      padding: 0 0 0 0;\n",
              "      width: 32px;\n",
              "    }\n",
              "\n",
              "    .colab-df-convert:hover {\n",
              "      background-color: #E2EBFA;\n",
              "      box-shadow: 0px 1px 2px rgba(60, 64, 67, 0.3), 0px 1px 3px 1px rgba(60, 64, 67, 0.15);\n",
              "      fill: #174EA6;\n",
              "    }\n",
              "\n",
              "    .colab-df-buttons div {\n",
              "      margin-bottom: 4px;\n",
              "    }\n",
              "\n",
              "    [theme=dark] .colab-df-convert {\n",
              "      background-color: #3B4455;\n",
              "      fill: #D2E3FC;\n",
              "    }\n",
              "\n",
              "    [theme=dark] .colab-df-convert:hover {\n",
              "      background-color: #434B5C;\n",
              "      box-shadow: 0px 1px 3px 1px rgba(0, 0, 0, 0.15);\n",
              "      filter: drop-shadow(0px 1px 2px rgba(0, 0, 0, 0.3));\n",
              "      fill: #FFFFFF;\n",
              "    }\n",
              "  </style>\n",
              "\n",
              "    <script>\n",
              "      const buttonEl =\n",
              "        document.querySelector('#df-b4c2683d-5540-46d3-a816-dc4c4227ec1d button.colab-df-convert');\n",
              "      buttonEl.style.display =\n",
              "        google.colab.kernel.accessAllowed ? 'block' : 'none';\n",
              "\n",
              "      async function convertToInteractive(key) {\n",
              "        const element = document.querySelector('#df-b4c2683d-5540-46d3-a816-dc4c4227ec1d');\n",
              "        const dataTable =\n",
              "          await google.colab.kernel.invokeFunction('convertToInteractive',\n",
              "                                                    [key], {});\n",
              "        if (!dataTable) return;\n",
              "\n",
              "        const docLinkHtml = 'Like what you see? Visit the ' +\n",
              "          '<a target=\"_blank\" href=https://colab.research.google.com/notebooks/data_table.ipynb>data table notebook</a>'\n",
              "          + ' to learn more about interactive tables.';\n",
              "        element.innerHTML = '';\n",
              "        dataTable['output_type'] = 'display_data';\n",
              "        await google.colab.output.renderOutput(dataTable, element);\n",
              "        const docLink = document.createElement('div');\n",
              "        docLink.innerHTML = docLinkHtml;\n",
              "        element.appendChild(docLink);\n",
              "      }\n",
              "    </script>\n",
              "  </div>\n",
              "\n",
              "\n",
              "<div id=\"df-c55e2d4f-deab-4e62-98a8-487ecda2d663\">\n",
              "  <button class=\"colab-df-quickchart\" onclick=\"quickchart('df-c55e2d4f-deab-4e62-98a8-487ecda2d663')\"\n",
              "            title=\"Suggest charts\"\n",
              "            style=\"display:none;\">\n",
              "\n",
              "<svg xmlns=\"http://www.w3.org/2000/svg\" height=\"24px\"viewBox=\"0 0 24 24\"\n",
              "     width=\"24px\">\n",
              "    <g>\n",
              "        <path d=\"M19 3H5c-1.1 0-2 .9-2 2v14c0 1.1.9 2 2 2h14c1.1 0 2-.9 2-2V5c0-1.1-.9-2-2-2zM9 17H7v-7h2v7zm4 0h-2V7h2v10zm4 0h-2v-4h2v4z\"/>\n",
              "    </g>\n",
              "</svg>\n",
              "  </button>\n",
              "\n",
              "<style>\n",
              "  .colab-df-quickchart {\n",
              "      --bg-color: #E8F0FE;\n",
              "      --fill-color: #1967D2;\n",
              "      --hover-bg-color: #E2EBFA;\n",
              "      --hover-fill-color: #174EA6;\n",
              "      --disabled-fill-color: #AAA;\n",
              "      --disabled-bg-color: #DDD;\n",
              "  }\n",
              "\n",
              "  [theme=dark] .colab-df-quickchart {\n",
              "      --bg-color: #3B4455;\n",
              "      --fill-color: #D2E3FC;\n",
              "      --hover-bg-color: #434B5C;\n",
              "      --hover-fill-color: #FFFFFF;\n",
              "      --disabled-bg-color: #3B4455;\n",
              "      --disabled-fill-color: #666;\n",
              "  }\n",
              "\n",
              "  .colab-df-quickchart {\n",
              "    background-color: var(--bg-color);\n",
              "    border: none;\n",
              "    border-radius: 50%;\n",
              "    cursor: pointer;\n",
              "    display: none;\n",
              "    fill: var(--fill-color);\n",
              "    height: 32px;\n",
              "    padding: 0;\n",
              "    width: 32px;\n",
              "  }\n",
              "\n",
              "  .colab-df-quickchart:hover {\n",
              "    background-color: var(--hover-bg-color);\n",
              "    box-shadow: 0 1px 2px rgba(60, 64, 67, 0.3), 0 1px 3px 1px rgba(60, 64, 67, 0.15);\n",
              "    fill: var(--button-hover-fill-color);\n",
              "  }\n",
              "\n",
              "  .colab-df-quickchart-complete:disabled,\n",
              "  .colab-df-quickchart-complete:disabled:hover {\n",
              "    background-color: var(--disabled-bg-color);\n",
              "    fill: var(--disabled-fill-color);\n",
              "    box-shadow: none;\n",
              "  }\n",
              "\n",
              "  .colab-df-spinner {\n",
              "    border: 2px solid var(--fill-color);\n",
              "    border-color: transparent;\n",
              "    border-bottom-color: var(--fill-color);\n",
              "    animation:\n",
              "      spin 1s steps(1) infinite;\n",
              "  }\n",
              "\n",
              "  @keyframes spin {\n",
              "    0% {\n",
              "      border-color: transparent;\n",
              "      border-bottom-color: var(--fill-color);\n",
              "      border-left-color: var(--fill-color);\n",
              "    }\n",
              "    20% {\n",
              "      border-color: transparent;\n",
              "      border-left-color: var(--fill-color);\n",
              "      border-top-color: var(--fill-color);\n",
              "    }\n",
              "    30% {\n",
              "      border-color: transparent;\n",
              "      border-left-color: var(--fill-color);\n",
              "      border-top-color: var(--fill-color);\n",
              "      border-right-color: var(--fill-color);\n",
              "    }\n",
              "    40% {\n",
              "      border-color: transparent;\n",
              "      border-right-color: var(--fill-color);\n",
              "      border-top-color: var(--fill-color);\n",
              "    }\n",
              "    60% {\n",
              "      border-color: transparent;\n",
              "      border-right-color: var(--fill-color);\n",
              "    }\n",
              "    80% {\n",
              "      border-color: transparent;\n",
              "      border-right-color: var(--fill-color);\n",
              "      border-bottom-color: var(--fill-color);\n",
              "    }\n",
              "    90% {\n",
              "      border-color: transparent;\n",
              "      border-bottom-color: var(--fill-color);\n",
              "    }\n",
              "  }\n",
              "</style>\n",
              "\n",
              "  <script>\n",
              "    async function quickchart(key) {\n",
              "      const quickchartButtonEl =\n",
              "        document.querySelector('#' + key + ' button');\n",
              "      quickchartButtonEl.disabled = true;  // To prevent multiple clicks.\n",
              "      quickchartButtonEl.classList.add('colab-df-spinner');\n",
              "      try {\n",
              "        const charts = await google.colab.kernel.invokeFunction(\n",
              "            'suggestCharts', [key], {});\n",
              "      } catch (error) {\n",
              "        console.error('Error during call to suggestCharts:', error);\n",
              "      }\n",
              "      quickchartButtonEl.classList.remove('colab-df-spinner');\n",
              "      quickchartButtonEl.classList.add('colab-df-quickchart-complete');\n",
              "    }\n",
              "    (() => {\n",
              "      let quickchartButtonEl =\n",
              "        document.querySelector('#df-c55e2d4f-deab-4e62-98a8-487ecda2d663 button');\n",
              "      quickchartButtonEl.style.display =\n",
              "        google.colab.kernel.accessAllowed ? 'block' : 'none';\n",
              "    })();\n",
              "  </script>\n",
              "</div>\n",
              "\n",
              "    </div>\n",
              "  </div>\n"
            ],
            "application/vnd.google.colaboratory.intrinsic+json": {
              "type": "dataframe",
              "variable_name": "ruf7",
              "summary": "{\n  \"name\": \"ruf7\",\n  \"rows\": 20,\n  \"fields\": [\n    {\n      \"column\": \"Pubourethral_stump_l_MRU\",\n      \"properties\": {\n        \"dtype\": \"number\",\n        \"std\": 0.6090620485199915,\n        \"min\": 1.48,\n        \"max\": 4.34,\n        \"num_unique_values\": 17,\n        \"samples\": [\n          2.38,\n          3.11,\n          2.0\n        ],\n        \"semantic_type\": \"\",\n        \"description\": \"\"\n      }\n    },\n    {\n      \"column\": \"Surgical_Steps\",\n      \"properties\": {\n        \"dtype\": \"number\",\n        \"std\": 0,\n        \"min\": 1,\n        \"max\": 2,\n        \"num_unique_values\": 2,\n        \"samples\": [\n          2,\n          1\n        ],\n        \"semantic_type\": \"\",\n        \"description\": \"\"\n      }\n    }\n  ]\n}"
            }
          },
          "metadata": {},
          "execution_count": 5
        }
      ]
    },
    {
      "cell_type": "code",
      "source": [
        "# Check column names to ensure 'Surgical_Steps' is correctly referenced\n",
        "print(\"Columns in DataFrame:\", ruf7.columns)\n",
        "\n",
        "# Strip any leading/trailing spaces from the column names to avoid referencing issues\n",
        "ruf7.columns = ruf7.columns.str.strip()"
      ],
      "metadata": {
        "colab": {
          "base_uri": "https://localhost:8080/"
        },
        "id": "dYiMVyF7lh6r",
        "outputId": "bf7a9486-4af9-47e8-8abb-1bc3b8842882"
      },
      "execution_count": null,
      "outputs": [
        {
          "output_type": "stream",
          "name": "stdout",
          "text": [
            "Columns in DataFrame: Index(['Pubourethral_stump_l_MRU', 'Surgical_Steps'], dtype='object')\n"
          ]
        }
      ]
    },
    {
      "cell_type": "code",
      "source": [
        "# Separate the data based on the Surgical_Steps value\n",
        "Surgical_Steps_1 = ruf7[ruf7['Surgical_Steps'] == 1]\n",
        "Surgical_Steps_2 = ruf7[ruf7['Surgical_Steps'] == 2]\n",
        "\n",
        "\n",
        "# Remove 'Surgical_Steps' column from calculation\n",
        "Surgical_Steps_1 = Surgical_Steps_1.drop(columns='Surgical_Steps')\n",
        "Surgical_Steps_2 = Surgical_Steps_2.drop(columns='Surgical_Steps')\n",
        "\n",
        "\n",
        "# Use describe function to get statistical summary for both groups\n",
        "describe_steps_1 = Surgical_Steps_1.describe()\n",
        "describe_steps_2 = Surgical_Steps_2.describe()\n",
        "\n",
        "\n",
        "# Display the results\n",
        "print(\"Statistical Summary for Surgical Steps 1:\")\n",
        "print(describe_steps_1)"
      ],
      "metadata": {
        "id": "usRSsf3PmGPj",
        "colab": {
          "base_uri": "https://localhost:8080/"
        },
        "outputId": "a8060cf0-5ed2-4bc5-9f72-410bc7778ec7"
      },
      "execution_count": null,
      "outputs": [
        {
          "output_type": "stream",
          "name": "stdout",
          "text": [
            "Statistical Summary for Surgical Steps 1:\n",
            "       Pubourethral_stump_l_MRU\n",
            "count                 13.000000\n",
            "mean                   2.382308\n",
            "std                    0.414430\n",
            "min                    1.480000\n",
            "25%                    2.070000\n",
            "50%                    2.460000\n",
            "75%                    2.600000\n",
            "max                    3.110000\n"
          ]
        }
      ]
    },
    {
      "cell_type": "code",
      "source": [
        "# Display the results\n",
        "print(\"Statistical Summary for Surgical Steps 2:\")\n",
        "print(describe_steps_2)"
      ],
      "metadata": {
        "colab": {
          "base_uri": "https://localhost:8080/"
        },
        "id": "lNTOqJdOmcYW",
        "outputId": "088e215d-d10d-4cd1-8da0-efda4e844dba"
      },
      "execution_count": null,
      "outputs": [
        {
          "output_type": "stream",
          "name": "stdout",
          "text": [
            "Statistical Summary for Surgical Steps 2:\n",
            "       Pubourethral_stump_l_MRU\n",
            "count                  7.000000\n",
            "mean                   2.568571\n",
            "std                    0.897152\n",
            "min                    1.600000\n",
            "25%                    2.075000\n",
            "50%                    2.500000\n",
            "75%                    2.695000\n",
            "max                    4.340000\n"
          ]
        }
      ]
    },
    {
      "cell_type": "code",
      "source": [
        "# Extract only count and mean for each Surgical Steps\n",
        "count_mean_steps_1 = describe_steps_1.loc[['count', 'mean']]\n",
        "count_mean_steps_2 = describe_steps_2.loc[['count', 'mean']]\n",
        "\n",
        "# Display the results\n",
        "print(\"Count and Mean for Surgical Steps 1:\")\n",
        "print(count_mean_steps_1)\n",
        "\n",
        "print(\"\\nCount and Mean for Surgical Steps 2:\")\n",
        "print(count_mean_steps_2)"
      ],
      "metadata": {
        "colab": {
          "base_uri": "https://localhost:8080/"
        },
        "id": "4zIsc1B4mfuh",
        "outputId": "561e09dd-64a2-4897-d4b8-a2d9c5de5428"
      },
      "execution_count": null,
      "outputs": [
        {
          "output_type": "stream",
          "name": "stdout",
          "text": [
            "Count and Mean for Surgical Steps 1:\n",
            "       Pubourethral_stump_l_MRU\n",
            "count                 13.000000\n",
            "mean                   2.382308\n",
            "\n",
            "Count and Mean for Surgical Steps 2:\n",
            "       Pubourethral_stump_l_MRU\n",
            "count                  7.000000\n",
            "mean                   2.568571\n"
          ]
        }
      ]
    },
    {
      "cell_type": "code",
      "source": [
        "# Calculate mean values for each Surgical Steps\n",
        "mean_steps_1 = count_mean_steps_1.loc['mean'].values[0]\n",
        "mean_steps_2 = count_mean_steps_2.loc['mean'].values[0]\n",
        "\n",
        "# Count the number of values less than and greater than the mean for each Surgical Steps\n",
        "less_than_mean_steps_1 = (Surgical_Steps_1['Pubourethral_stump_l_MRU'] < mean_steps_1).sum()\n",
        "greater_than_mean_steps_1 = (Surgical_Steps_1['Pubourethral_stump_l_MRU'] > mean_steps_1).sum()\n",
        "\n",
        "less_than_mean_steps_2 = (Surgical_Steps_2['Pubourethral_stump_l_MRU'] < mean_steps_2).sum()\n",
        "greater_than_mean_steps_2 = (Surgical_Steps_2['Pubourethral_stump_l_MRU'] > mean_steps_2).sum()\n",
        "\n",
        "# Display the results\n",
        "print(f\"\\nSurgical Steps = 1\")\n",
        "print(f\"Number of values less than mean value(FN): {less_than_mean_steps_1}\")\n",
        "print(f\"Number of values greater than mean value(TN): {greater_than_mean_steps_1}\")\n",
        "\n",
        "print(f\"\\nSurgical Steps = 2\")\n",
        "print(f\"Number of values less than mean value(TP): {less_than_mean_steps_2}\")\n",
        "print(f\"Number of values greater than mean value(FP): {greater_than_mean_steps_2}\")"
      ],
      "metadata": {
        "colab": {
          "base_uri": "https://localhost:8080/"
        },
        "id": "nqVbXT9ZmldX",
        "outputId": "8a3ad91e-d165-4f16-bd7d-bec00479b4e0"
      },
      "execution_count": null,
      "outputs": [
        {
          "output_type": "stream",
          "name": "stdout",
          "text": [
            "\n",
            "Surgical Steps = 1\n",
            "Number of values less than mean value(FN): 6\n",
            "Number of values greater than mean value(TN): 7\n",
            "\n",
            "Surgical Steps = 2\n",
            "Number of values less than mean value(TP): 4\n",
            "Number of values greater than mean value(FP): 3\n"
          ]
        }
      ]
    },
    {
      "cell_type": "code",
      "source": [
        "# Calculate the fixed threshold value\n",
        "threshold_value = 2.475\n",
        "\n",
        "# Count the number of values less than and greater than the fixed threshold for each Surgical Steps\n",
        "less_than_threshold_steps_1 = (Surgical_Steps_1['Pubourethral_stump_l_MRU'] < threshold_value).sum()\n",
        "greater_than_threshold_steps_1 = (Surgical_Steps_1['Pubourethral_stump_l_MRU'] > threshold_value).sum()\n",
        "\n",
        "less_than_threshold_steps_2 = (Surgical_Steps_2['Pubourethral_stump_l_MRU'] < threshold_value).sum()\n",
        "greater_than_threshold_steps_2 = (Surgical_Steps_2['Pubourethral_stump_l_MRU'] > threshold_value).sum()\n",
        "\n",
        "# Display the results\n",
        "print(f\"\\nSurgical Steps = 1\")\n",
        "print(f\"Number of values less than threshold value (FN): {less_than_threshold_steps_1}\")\n",
        "print(f\"Number of values greater than threshold value (TN): {greater_than_threshold_steps_1}\")\n",
        "\n",
        "print(f\"\\nSurgical Steps = 2\")\n",
        "print(f\"Number of values less than threshold value (TP): {less_than_threshold_steps_2}\")\n",
        "print(f\"Number of values greater than threshold value (FP): {greater_than_threshold_steps_2}\")"
      ],
      "metadata": {
        "colab": {
          "base_uri": "https://localhost:8080/"
        },
        "id": "uB9xTs95wnk3",
        "outputId": "efdcc941-1db8-4d98-e3d1-2e9b0d0a6c4f"
      },
      "execution_count": null,
      "outputs": [
        {
          "output_type": "stream",
          "name": "stdout",
          "text": [
            "\n",
            "Surgical Steps = 1\n",
            "Number of values less than threshold value (FN): 7\n",
            "Number of values greater than threshold value (TN): 6\n",
            "\n",
            "Surgical Steps = 2\n",
            "Number of values less than threshold value (TP): 3\n",
            "Number of values greater than threshold value (FP): 4\n"
          ]
        }
      ]
    },
    {
      "cell_type": "code",
      "source": [
        "from scipy import stats\n",
        "# Perform Mann-Whitney U test comparing the two groups\n",
        "from scipy.stats import mannwhitneyu\n",
        "u_statistic, p_value = stats.mannwhitneyu(\n",
        "    Surgical_Steps_1['Pubourethral_stump_l_MRU'],\n",
        "    Surgical_Steps_2['Pubourethral_stump_l_MRU']\n",
        ")\n",
        "\n",
        "# Display the results\n",
        "print(\"Mann-Whitney Result for Comparison of Surgical Steps 1 and 2:\")\n",
        "print(\"Pubourethral_stump_l_MRU vs Surgical Steps 1 vs Surgical Steps 2\")\n",
        "print(\"U Statistic:\", u_statistic)\n",
        "print(\"p-Value:\", p_value)"
      ],
      "metadata": {
        "colab": {
          "base_uri": "https://localhost:8080/"
        },
        "id": "xSY_3Tjdn5ik",
        "outputId": "86c46305-5250-455e-820f-e20b0ee36e26"
      },
      "execution_count": null,
      "outputs": [
        {
          "output_type": "stream",
          "name": "stdout",
          "text": [
            "Mann-Whitney Result for Comparison of Surgical Steps 1 and 2:\n",
            "Pubourethral_stump_l_MRU vs Surgical Steps 1 vs Surgical Steps 2\n",
            "U Statistic: 41.5\n",
            "p-Value: 0.7811099219173364\n"
          ]
        }
      ]
    },
    {
      "cell_type": "code",
      "source": [
        "#when the average is taken for both Surgical Steps value for mean TN, FN , TP , FP.\n",
        "import matplotlib.pyplot as plt\n",
        "from sklearn.metrics import roc_curve, auc\n",
        "\n",
        "# Updated values\n",
        "TP = 4\n",
        "FN = 7\n",
        "TN = 6\n",
        "FP = 3\n",
        "\n",
        "\n",
        "# Sensitivity and Specificity\n",
        "sensitivity = TP / (TP + FN)\n",
        "specificity = TN / (TN + FP)\n",
        "\n",
        "# Plotting the ROC curve\n",
        "# For simplicity, let's use these values as the ROC points\n",
        "fpr = [0, 1 - specificity, 1]  # False Positive Rate\n",
        "tpr = [0, sensitivity, 1]      # True Positive Rate\n",
        "\n",
        "# Compute AUC\n",
        "roc_auc = auc(fpr, tpr)\n",
        "\n",
        "# Plot ROC curve\n",
        "plt.figure()\n",
        "plt.plot(fpr, tpr, color='darkorange', lw=2, label=f'ROC curve (area = {roc_auc:.2f})')\n",
        "plt.plot([0, 1], [0, 1], color='navy', lw=2, linestyle='--')\n",
        "plt.xlim([0.0, 1.0])\n",
        "plt.ylim([0.0, 1.05])\n",
        "plt.xlabel('False Positive Rate')\n",
        "plt.ylabel('True Positive Rate')\n",
        "plt.title('Receiver Operating Characteristic (ROC)')\n",
        "plt.legend(loc='lower right')\n",
        "plt.show()\n",
        "\n",
        "# Print Sensitivity and AUC\n",
        "print(f\"Sensitivity: {sensitivity:.3f}\")\n",
        "print(f\"AUC: {roc_auc:.3f}\")"
      ],
      "metadata": {
        "colab": {
          "base_uri": "https://localhost:8080/",
          "height": 508
        },
        "id": "6CptfxXqx4k_",
        "outputId": "8d1d6b19-d4e8-4c7e-b7c8-f79e13a7fca8"
      },
      "execution_count": null,
      "outputs": [
        {
          "output_type": "display_data",
          "data": {
            "text/plain": [
              "<Figure size 640x480 with 1 Axes>"
            ],
            "image/png": "[encoded data removed]"
          },
          "metadata": {}
        },
        {
          "output_type": "stream",
          "name": "stdout",
          "text": [
            "Sensitivity: 0.364\n",
            "AUC: 0.515\n"
          ]
        }
      ]
    },
    {
      "cell_type": "code",
      "source": [
        "# Plot distribution plots with normal distribution curve\n",
        "columns_to_plot = ruf7.columns[:-1]  # Exclude 'Surgical_Steps'\n",
        "\n",
        "# plt.figure(figsize=(10, 20))\n",
        "\n",
        "for i, col in enumerate(columns_to_plot, 1):\n",
        "    plt.subplot(len(columns_to_plot), 1, i)  # Create a vertical layout\n",
        "    sns.distplot(ruf7[col], fit=norm, kde=False)\n",
        "    plt.title(f'Distribution of {col}')\n",
        "    plt.xlabel(col)\n",
        "    plt.ylabel('Frequency (occurrences)')\n",
        "\n",
        "plt.tight_layout()\n",
        "plt.show()"
      ],
      "metadata": {
        "id": "YAuNlhl70PEn",
        "colab": {
          "base_uri": "https://localhost:8080/",
          "height": 688
        },
        "outputId": "9367fbb5-45bd-4580-90c8-f55cd4c0767e"
      },
      "execution_count": null,
      "outputs": [
        {
          "output_type": "stream",
          "name": "stderr",
          "text": [
            "<ipython-input-19-1b51ec01f8d3>:8: UserWarning: \n",
            "\n",
            "`distplot` is a deprecated function and will be removed in seaborn v0.14.0.\n",
            "\n",
            "Please adapt your code to use either `displot` (a figure-level function with\n",
            "similar flexibility) or `histplot` (an axes-level function for histograms).\n",
            "\n",
            "For a guide to updating your code to use the new functions, please see\n",
            "https://gist.github.com/mwaskom/de44147ed2974457ad6372750bbe5751\n",
            "\n",
            "  sns.distplot(ruf7[col], fit=norm, kde=False)\n"
          ]
        },
        {
          "output_type": "display_data",
          "data": {
            "text/plain": [
              "<Figure size 640x480 with 1 Axes>"
            ],
            "image/png": "[encoded data removed]"
          },
          "metadata": {}
        }
      ]
    },
    {
      "cell_type": "code",
      "source": [],
      "metadata": {
        "id": "yVBKx-BNmf6A"
      },
      "execution_count": null,
      "outputs": []
    }
  ]
}