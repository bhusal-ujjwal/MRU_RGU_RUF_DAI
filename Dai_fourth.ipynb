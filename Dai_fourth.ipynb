{
  "nbformat": 4,
  "nbformat_minor": 0,
  "metadata": {
    "colab": {
      "provenance": []
    },
    "kernelspec": {
      "name": "python3",
      "display_name": "Python 3"
    },
    "language_info": {
      "name": "python"
    }
  },
  "cells": [
    {
      "cell_type": "code",
      "execution_count": null,
      "metadata": {
        "id": "f_EsGkzeyHRN"
      },
      "outputs": [],
      "source": [
        "# Import Libraries\n",
        "import pandas as pd\n",
        "import numpy as np\n",
        "import matplotlib.pyplot as plt\n",
        "import seaborn as sns\n",
        "from scipy.stats import norm, chi2_contingency\n",
        "from sklearn.metrics import roc_curve, auc\n",
        "from google.colab import files\n",
        "from scipy import stats"
      ]
    },
    {
      "cell_type": "code",
      "source": [
        "# Upload csv file to colab for using it\n",
        "upload_file = files.upload()"
      ],
      "metadata": {
        "colab": {
          "base_uri": "https://localhost:8080/",
          "height": 73
        },
        "id": "VwzVdIDhyNNM",
        "outputId": "8f9b0949-97ab-4529-cbf7-db75cd991d1a"
      },
      "execution_count": null,
      "outputs": [
        {
          "output_type": "display_data",
          "data": {
            "text/plain": [
              "<IPython.core.display.HTML object>"
            ],
            "text/html": [
              "\n",
              "     <input type=\"file\" id=\"files-bf849fdd-add5-4378-97b5-62a233f53c20\" name=\"files[]\" multiple disabled\n",
              "        style=\"border:none\" />\n",
              "     <output id=\"result-bf849fdd-add5-4378-97b5-62a233f53c20\">\n",
              "      Upload widget is only available when the cell has been executed in the\n",
              "      current browser session. Please rerun this cell to enable.\n",
              "      </output>\n",
              "      <script>// Copyright 2017 Google LLC\n",
              "//\n",
              "// Licensed under the Apache License, Version 2.0 (the \"License\");\n",
              "// you may not use this file except in compliance with the License.\n",
              "// You may obtain a copy of the License at\n",
              "//\n",
              "//      http://www.apache.org/licenses/LICENSE-2.0\n",
              "//\n",
              "// Unless required by applicable law or agreed to in writing, software\n",
              "// distributed under the License is distributed on an \"AS IS\" BASIS,\n",
              "// WITHOUT WARRANTIES OR CONDITIONS OF ANY KIND, either express or implied.\n",
              "// See the License for the specific language governing permissions and\n",
              "// limitations under the License.\n",
              "\n",
              "/**\n",
              " * @fileoverview Helpers for google.colab Python module.\n",
              " */\n",
              "(function(scope) {\n",
              "function span(text, styleAttributes = {}) {\n",
              "  const element = document.createElement('span');\n",
              "  element.textContent = text;\n",
              "  for (const key of Object.keys(styleAttributes)) {\n",
              "    element.style[key] = styleAttributes[key];\n",
              "  }\n",
              "  return element;\n",
              "}\n",
              "\n",
              "// Max number of bytes which will be uploaded at a time.\n",
              "const MAX_PAYLOAD_SIZE = 100 * 1024;\n",
              "\n",
              "function _uploadFiles(inputId, outputId) {\n",
              "  const steps = uploadFilesStep(inputId, outputId);\n",
              "  const outputElement = document.getElementById(outputId);\n",
              "  // Cache steps on the outputElement to make it available for the next call\n",
              "  // to uploadFilesContinue from Python.\n",
              "  outputElement.steps = steps;\n",
              "\n",
              "  return _uploadFilesContinue(outputId);\n",
              "}\n",
              "\n",
              "// This is roughly an async generator (not supported in the browser yet),\n",
              "// where there are multiple asynchronous steps and the Python side is going\n",
              "// to poll for completion of each step.\n",
              "// This uses a Promise to block the python side on completion of each step,\n",
              "// then passes the result of the previous step as the input to the next step.\n",
              "function _uploadFilesContinue(outputId) {\n",
              "  const outputElement = document.getElementById(outputId);\n",
              "  const steps = outputElement.steps;\n",
              "\n",
              "  const next = steps.next(outputElement.lastPromiseValue);\n",
              "  return Promise.resolve(next.value.promise).then((value) => {\n",
              "    // Cache the last promise value to make it available to the next\n",
              "    // step of the generator.\n",
              "    outputElement.lastPromiseValue = value;\n",
              "    return next.value.response;\n",
              "  });\n",
              "}\n",
              "\n",
              "/**\n",
              " * Generator function which is called between each async step of the upload\n",
              " * process.\n",
              " * @param {string} inputId Element ID of the input file picker element.\n",
              " * @param {string} outputId Element ID of the output display.\n",
              " * @return {!Iterable<!Object>} Iterable of next steps.\n",
              " */\n",
              "function* uploadFilesStep(inputId, outputId) {\n",
              "  const inputElement = document.getElementById(inputId);\n",
              "  inputElement.disabled = false;\n",
              "\n",
              "  const outputElement = document.getElementById(outputId);\n",
              "  outputElement.innerHTML = '';\n",
              "\n",
              "  const pickedPromise = new Promise((resolve) => {\n",
              "    inputElement.addEventListener('change', (e) => {\n",
              "      resolve(e.target.files);\n",
              "    });\n",
              "  });\n",
              "\n",
              "  const cancel = document.createElement('button');\n",
              "  inputElement.parentElement.appendChild(cancel);\n",
              "  cancel.textContent = 'Cancel upload';\n",
              "  const cancelPromise = new Promise((resolve) => {\n",
              "    cancel.onclick = () => {\n",
              "      resolve(null);\n",
              "    };\n",
              "  });\n",
              "\n",
              "  // Wait for the user to pick the files.\n",
              "  const files = yield {\n",
              "    promise: Promise.race([pickedPromise, cancelPromise]),\n",
              "    response: {\n",
              "      action: 'starting',\n",
              "    }\n",
              "  };\n",
              "\n",
              "  cancel.remove();\n",
              "\n",
              "  // Disable the input element since further picks are not allowed.\n",
              "  inputElement.disabled = true;\n",
              "\n",
              "  if (!files) {\n",
              "    return {\n",
              "      response: {\n",
              "        action: 'complete',\n",
              "      }\n",
              "    };\n",
              "  }\n",
              "\n",
              "  for (const file of files) {\n",
              "    const li = document.createElement('li');\n",
              "    li.append(span(file.name, {fontWeight: 'bold'}));\n",
              "    li.append(span(\n",
              "        `(${file.type || 'n/a'}) - ${file.size} bytes, ` +\n",
              "        `last modified: ${\n",
              "            file.lastModifiedDate ? file.lastModifiedDate.toLocaleDateString() :\n",
              "                                    'n/a'} - `));\n",
              "    const percent = span('0% done');\n",
              "    li.appendChild(percent);\n",
              "\n",
              "    outputElement.appendChild(li);\n",
              "\n",
              "    const fileDataPromise = new Promise((resolve) => {\n",
              "      const reader = new FileReader();\n",
              "      reader.onload = (e) => {\n",
              "        resolve(e.target.result);\n",
              "      };\n",
              "      reader.readAsArrayBuffer(file);\n",
              "    });\n",
              "    // Wait for the data to be ready.\n",
              "    let fileData = yield {\n",
              "      promise: fileDataPromise,\n",
              "      response: {\n",
              "        action: 'continue',\n",
              "      }\n",
              "    };\n",
              "\n",
              "    // Use a chunked sending to avoid message size limits. See b/62115660.\n",
              "    let position = 0;\n",
              "    do {\n",
              "      const length = Math.min(fileData.byteLength - position, MAX_PAYLOAD_SIZE);\n",
              "      const chunk = new Uint8Array(fileData, position, length);\n",
              "      position += length;\n",
              "\n",
              "      const base64 = btoa(String.fromCharCode.apply(null, chunk));\n",
              "      yield {\n",
              "        response: {\n",
              "          action: 'append',\n",
              "          file: file.name,\n",
              "          data: base64,\n",
              "        },\n",
              "      };\n",
              "\n",
              "      let percentDone = fileData.byteLength === 0 ?\n",
              "          100 :\n",
              "          Math.round((position / fileData.byteLength) * 100);\n",
              "      percent.textContent = `${percentDone}% done`;\n",
              "\n",
              "    } while (position < fileData.byteLength);\n",
              "  }\n",
              "\n",
              "  // All done.\n",
              "  yield {\n",
              "    response: {\n",
              "      action: 'complete',\n",
              "    }\n",
              "  };\n",
              "}\n",
              "\n",
              "scope.google = scope.google || {};\n",
              "scope.google.colab = scope.google.colab || {};\n",
              "scope.google.colab._files = {\n",
              "  _uploadFiles,\n",
              "  _uploadFilesContinue,\n",
              "};\n",
              "})(self);\n",
              "</script> "
            ]
          },
          "metadata": {}
        },
        {
          "output_type": "stream",
          "name": "stdout",
          "text": [
            "Saving Fourth_task.csv to Fourth_task (1).csv\n"
          ]
        }
      ]
    },
    {
      "cell_type": "code",
      "source": [
        "# Use the uploaded file in colab\n",
        "ruf4 = pd.read_csv(\"Fourth_task.csv\")\n",
        "ruf4.head()"
      ],
      "metadata": {
        "colab": {
          "base_uri": "https://localhost:8080/",
          "height": 206
        },
        "id": "RTnCf4eQyO3x",
        "outputId": "eb8f74ab-08cc-4c58-aa05-1e875c776d93"
      },
      "execution_count": null,
      "outputs": [
        {
          "output_type": "execute_result",
          "data": {
            "text/plain": [
              "   L_distraction_defect_MRU  L_distraction_defect_RGU  Surgical_Steps\n",
              "0                      2.60                      2.70               2\n",
              "1                      1.90                      2.16               2\n",
              "2                      2.24                      2.88               2\n",
              "3                      2.89                      4.59               2\n",
              "4                      4.95                      4.60               4"
            ],
            "text/html": [
              "\n",
              "  <div id=\"df-995ac4a1-4765-4bd1-afb1-aa7c8c88c1ee\" class=\"colab-df-container\">\n",
              "    <div>\n",
              "<style scoped>\n",
              "    .dataframe tbody tr th:only-of-type {\n",
              "        vertical-align: middle;\n",
              "    }\n",
              "\n",
              "    .dataframe tbody tr th {\n",
              "        vertical-align: top;\n",
              "    }\n",
              "\n",
              "    .dataframe thead th {\n",
              "        text-align: right;\n",
              "    }\n",
              "</style>\n",
              "<table border=\"1\" class=\"dataframe\">\n",
              "  <thead>\n",
              "    <tr style=\"text-align: right;\">\n",
              "      <th></th>\n",
              "      <th>L_distraction_defect_MRU</th>\n",
              "      <th>L_distraction_defect_RGU</th>\n",
              "      <th>Surgical_Steps</th>\n",
              "    </tr>\n",
              "  </thead>\n",
              "  <tbody>\n",
              "    <tr>\n",
              "      <th>0</th>\n",
              "      <td>2.60</td>\n",
              "      <td>2.70</td>\n",
              "      <td>2</td>\n",
              "    </tr>\n",
              "    <tr>\n",
              "      <th>1</th>\n",
              "      <td>1.90</td>\n",
              "      <td>2.16</td>\n",
              "      <td>2</td>\n",
              "    </tr>\n",
              "    <tr>\n",
              "      <th>2</th>\n",
              "      <td>2.24</td>\n",
              "      <td>2.88</td>\n",
              "      <td>2</td>\n",
              "    </tr>\n",
              "    <tr>\n",
              "      <th>3</th>\n",
              "      <td>2.89</td>\n",
              "      <td>4.59</td>\n",
              "      <td>2</td>\n",
              "    </tr>\n",
              "    <tr>\n",
              "      <th>4</th>\n",
              "      <td>4.95</td>\n",
              "      <td>4.60</td>\n",
              "      <td>4</td>\n",
              "    </tr>\n",
              "  </tbody>\n",
              "</table>\n",
              "</div>\n",
              "    <div class=\"colab-df-buttons\">\n",
              "\n",
              "  <div class=\"colab-df-container\">\n",
              "    <button class=\"colab-df-convert\" onclick=\"convertToInteractive('df-995ac4a1-4765-4bd1-afb1-aa7c8c88c1ee')\"\n",
              "            title=\"Convert this dataframe to an interactive table.\"\n",
              "            style=\"display:none;\">\n",
              "\n",
              "  <svg xmlns=\"http://www.w3.org/2000/svg\" height=\"24px\" viewBox=\"0 -960 960 960\">\n",
              "    <path d=\"M120-120v-720h720v720H120Zm60-500h600v-160H180v160Zm220 220h160v-160H400v160Zm0 220h160v-160H400v160ZM180-400h160v-160H180v160Zm440 0h160v-160H620v160ZM180-180h160v-160H180v160Zm440 0h160v-160H620v160Z\"/>\n",
              "  </svg>\n",
              "    </button>\n",
              "\n",
              "  <style>\n",
              "    .colab-df-container {\n",
              "      display:flex;\n",
              "      gap: 12px;\n",
              "    }\n",
              "\n",
              "    .colab-df-convert {\n",
              "      background-color: #E8F0FE;\n",
              "      border: none;\n",
              "      border-radius: 50%;\n",
              "      cursor: pointer;\n",
              "      display: none;\n",
              "      fill: #1967D2;\n",
              "      height: 32px;\n",
              "      padding: 0 0 0 0;\n",
              "      width: 32px;\n",
              "    }\n",
              "\n",
              "    .colab-df-convert:hover {\n",
              "      background-color: #E2EBFA;\n",
              "      box-shadow: 0px 1px 2px rgba(60, 64, 67, 0.3), 0px 1px 3px 1px rgba(60, 64, 67, 0.15);\n",
              "      fill: #174EA6;\n",
              "    }\n",
              "\n",
              "    .colab-df-buttons div {\n",
              "      margin-bottom: 4px;\n",
              "    }\n",
              "\n",
              "    [theme=dark] .colab-df-convert {\n",
              "      background-color: #3B4455;\n",
              "      fill: #D2E3FC;\n",
              "    }\n",
              "\n",
              "    [theme=dark] .colab-df-convert:hover {\n",
              "      background-color: #434B5C;\n",
              "      box-shadow: 0px 1px 3px 1px rgba(0, 0, 0, 0.15);\n",
              "      filter: drop-shadow(0px 1px 2px rgba(0, 0, 0, 0.3));\n",
              "      fill: #FFFFFF;\n",
              "    }\n",
              "  </style>\n",
              "\n",
              "    <script>\n",
              "      const buttonEl =\n",
              "        document.querySelector('#df-995ac4a1-4765-4bd1-afb1-aa7c8c88c1ee button.colab-df-convert');\n",
              "      buttonEl.style.display =\n",
              "        google.colab.kernel.accessAllowed ? 'block' : 'none';\n",
              "\n",
              "      async function convertToInteractive(key) {\n",
              "        const element = document.querySelector('#df-995ac4a1-4765-4bd1-afb1-aa7c8c88c1ee');\n",
              "        const dataTable =\n",
              "          await google.colab.kernel.invokeFunction('convertToInteractive',\n",
              "                                                    [key], {});\n",
              "        if (!dataTable) return;\n",
              "\n",
              "        const docLinkHtml = 'Like what you see? Visit the ' +\n",
              "          '<a target=\"_blank\" href=https://colab.research.google.com/notebooks/data_table.ipynb>data table notebook</a>'\n",
              "          + ' to learn more about interactive tables.';\n",
              "        element.innerHTML = '';\n",
              "        dataTable['output_type'] = 'display_data';\n",
              "        await google.colab.output.renderOutput(dataTable, element);\n",
              "        const docLink = document.createElement('div');\n",
              "        docLink.innerHTML = docLinkHtml;\n",
              "        element.appendChild(docLink);\n",
              "      }\n",
              "    </script>\n",
              "  </div>\n",
              "\n",
              "\n",
              "<div id=\"df-ed2db2ca-a142-4802-8565-b62d8f9c35a9\">\n",
              "  <button class=\"colab-df-quickchart\" onclick=\"quickchart('df-ed2db2ca-a142-4802-8565-b62d8f9c35a9')\"\n",
              "            title=\"Suggest charts\"\n",
              "            style=\"display:none;\">\n",
              "\n",
              "<svg xmlns=\"http://www.w3.org/2000/svg\" height=\"24px\"viewBox=\"0 0 24 24\"\n",
              "     width=\"24px\">\n",
              "    <g>\n",
              "        <path d=\"M19 3H5c-1.1 0-2 .9-2 2v14c0 1.1.9 2 2 2h14c1.1 0 2-.9 2-2V5c0-1.1-.9-2-2-2zM9 17H7v-7h2v7zm4 0h-2V7h2v10zm4 0h-2v-4h2v4z\"/>\n",
              "    </g>\n",
              "</svg>\n",
              "  </button>\n",
              "\n",
              "<style>\n",
              "  .colab-df-quickchart {\n",
              "      --bg-color: #E8F0FE;\n",
              "      --fill-color: #1967D2;\n",
              "      --hover-bg-color: #E2EBFA;\n",
              "      --hover-fill-color: #174EA6;\n",
              "      --disabled-fill-color: #AAA;\n",
              "      --disabled-bg-color: #DDD;\n",
              "  }\n",
              "\n",
              "  [theme=dark] .colab-df-quickchart {\n",
              "      --bg-color: #3B4455;\n",
              "      --fill-color: #D2E3FC;\n",
              "      --hover-bg-color: #434B5C;\n",
              "      --hover-fill-color: #FFFFFF;\n",
              "      --disabled-bg-color: #3B4455;\n",
              "      --disabled-fill-color: #666;\n",
              "  }\n",
              "\n",
              "  .colab-df-quickchart {\n",
              "    background-color: var(--bg-color);\n",
              "    border: none;\n",
              "    border-radius: 50%;\n",
              "    cursor: pointer;\n",
              "    display: none;\n",
              "    fill: var(--fill-color);\n",
              "    height: 32px;\n",
              "    padding: 0;\n",
              "    width: 32px;\n",
              "  }\n",
              "\n",
              "  .colab-df-quickchart:hover {\n",
              "    background-color: var(--hover-bg-color);\n",
              "    box-shadow: 0 1px 2px rgba(60, 64, 67, 0.3), 0 1px 3px 1px rgba(60, 64, 67, 0.15);\n",
              "    fill: var(--button-hover-fill-color);\n",
              "  }\n",
              "\n",
              "  .colab-df-quickchart-complete:disabled,\n",
              "  .colab-df-quickchart-complete:disabled:hover {\n",
              "    background-color: var(--disabled-bg-color);\n",
              "    fill: var(--disabled-fill-color);\n",
              "    box-shadow: none;\n",
              "  }\n",
              "\n",
              "  .colab-df-spinner {\n",
              "    border: 2px solid var(--fill-color);\n",
              "    border-color: transparent;\n",
              "    border-bottom-color: var(--fill-color);\n",
              "    animation:\n",
              "      spin 1s steps(1) infinite;\n",
              "  }\n",
              "\n",
              "  @keyframes spin {\n",
              "    0% {\n",
              "      border-color: transparent;\n",
              "      border-bottom-color: var(--fill-color);\n",
              "      border-left-color: var(--fill-color);\n",
              "    }\n",
              "    20% {\n",
              "      border-color: transparent;\n",
              "      border-left-color: var(--fill-color);\n",
              "      border-top-color: var(--fill-color);\n",
              "    }\n",
              "    30% {\n",
              "      border-color: transparent;\n",
              "      border-left-color: var(--fill-color);\n",
              "      border-top-color: var(--fill-color);\n",
              "      border-right-color: var(--fill-color);\n",
              "    }\n",
              "    40% {\n",
              "      border-color: transparent;\n",
              "      border-right-color: var(--fill-color);\n",
              "      border-top-color: var(--fill-color);\n",
              "    }\n",
              "    60% {\n",
              "      border-color: transparent;\n",
              "      border-right-color: var(--fill-color);\n",
              "    }\n",
              "    80% {\n",
              "      border-color: transparent;\n",
              "      border-right-color: var(--fill-color);\n",
              "      border-bottom-color: var(--fill-color);\n",
              "    }\n",
              "    90% {\n",
              "      border-color: transparent;\n",
              "      border-bottom-color: var(--fill-color);\n",
              "    }\n",
              "  }\n",
              "</style>\n",
              "\n",
              "  <script>\n",
              "    async function quickchart(key) {\n",
              "      const quickchartButtonEl =\n",
              "        document.querySelector('#' + key + ' button');\n",
              "      quickchartButtonEl.disabled = true;  // To prevent multiple clicks.\n",
              "      quickchartButtonEl.classList.add('colab-df-spinner');\n",
              "      try {\n",
              "        const charts = await google.colab.kernel.invokeFunction(\n",
              "            'suggestCharts', [key], {});\n",
              "      } catch (error) {\n",
              "        console.error('Error during call to suggestCharts:', error);\n",
              "      }\n",
              "      quickchartButtonEl.classList.remove('colab-df-spinner');\n",
              "      quickchartButtonEl.classList.add('colab-df-quickchart-complete');\n",
              "    }\n",
              "    (() => {\n",
              "      let quickchartButtonEl =\n",
              "        document.querySelector('#df-ed2db2ca-a142-4802-8565-b62d8f9c35a9 button');\n",
              "      quickchartButtonEl.style.display =\n",
              "        google.colab.kernel.accessAllowed ? 'block' : 'none';\n",
              "    })();\n",
              "  </script>\n",
              "</div>\n",
              "\n",
              "    </div>\n",
              "  </div>\n"
            ],
            "application/vnd.google.colaboratory.intrinsic+json": {
              "type": "dataframe",
              "variable_name": "ruf4",
              "summary": "{\n  \"name\": \"ruf4\",\n  \"rows\": 20,\n  \"fields\": [\n    {\n      \"column\": \"L_distraction_defect_MRU\",\n      \"properties\": {\n        \"dtype\": \"number\",\n        \"std\": 1.130766391249292,\n        \"min\": 1.45,\n        \"max\": 4.95,\n        \"num_unique_values\": 20,\n        \"samples\": [\n          2.6,\n          1.5,\n          2.5\n        ],\n        \"semantic_type\": \"\",\n        \"description\": \"\"\n      }\n    },\n    {\n      \"column\": \"L_distraction_defect_RGU\",\n      \"properties\": {\n        \"dtype\": \"number\",\n        \"std\": 1.1181247223529414,\n        \"min\": 1.67,\n        \"max\": 5.15,\n        \"num_unique_values\": 20,\n        \"samples\": [\n          2.7,\n          2.0,\n          3.0\n        ],\n        \"semantic_type\": \"\",\n        \"description\": \"\"\n      }\n    },\n    {\n      \"column\": \"Surgical_Steps\",\n      \"properties\": {\n        \"dtype\": \"number\",\n        \"std\": 1,\n        \"min\": 1,\n        \"max\": 4,\n        \"num_unique_values\": 4,\n        \"samples\": [\n          4,\n          3,\n          2\n        ],\n        \"semantic_type\": \"\",\n        \"description\": \"\"\n      }\n    }\n  ]\n}"
            }
          },
          "metadata": {},
          "execution_count": 73
        }
      ]
    },
    {
      "cell_type": "code",
      "source": [
        "# Check column names to ensure 'Surgical_Steps' is correctly referenced\n",
        "print(\"Columns in DataFrame:\", ruf4.columns)\n",
        "\n",
        "# Strip any leading/trailing spaces from the column names to avoid referencing issues\n",
        "ruf4.columns = ruf4.columns.str.strip()"
      ],
      "metadata": {
        "colab": {
          "base_uri": "https://localhost:8080/"
        },
        "id": "xskmB6tzyZAr",
        "outputId": "b2350721-1d20-4104-99f3-c37e16f0bb21"
      },
      "execution_count": null,
      "outputs": [
        {
          "output_type": "stream",
          "name": "stdout",
          "text": [
            "Columns in DataFrame: Index(['L_distraction_defect_MRU', 'L_distraction_defect_RGU',\n",
            "       'Surgical_Steps'],\n",
            "      dtype='object')\n"
          ]
        }
      ]
    },
    {
      "cell_type": "code",
      "source": [
        "# Separate the data based on the surgical_steps value\n",
        "surgical_steps_1 = ruf4[ruf4['Surgical_Steps'] == 1]\n",
        "surgical_steps_2 = ruf4[ruf4['Surgical_Steps'] == 2]\n",
        "surgical_steps_3 = ruf4[ruf4['Surgical_Steps'] == 3]\n",
        "surgical_steps_4 = ruf4[ruf4['Surgical_Steps'] == 4]\n",
        "\n",
        "\n",
        "# Remove 'Surgical_Steps' column from calculation\n",
        "surgical_steps_1 = surgical_steps_1.drop(columns='Surgical_Steps')\n",
        "surgical_steps_2 = surgical_steps_2.drop(columns='Surgical_Steps')\n",
        "surgical_steps_3 = surgical_steps_3.drop(columns='Surgical_Steps')\n",
        "surgical_steps_4 = surgical_steps_4.drop(columns='Surgical_Steps')\n",
        "\n",
        "\n",
        "# Use describe function to get statistical summary for both groups\n",
        "describe_steps_1 = surgical_steps_1.describe()\n",
        "describe_steps_2 = surgical_steps_2.describe()\n",
        "describe_steps_3 = surgical_steps_3.describe()\n",
        "describe_steps_4 = surgical_steps_4.describe()"
      ],
      "metadata": {
        "id": "QmYMdQCdyclG"
      },
      "execution_count": null,
      "outputs": []
    },
    {
      "cell_type": "code",
      "source": [
        "# Display the results\n",
        "print(\"Statistical Summary for Surgical Steps 1:\")\n",
        "print(describe_steps_1)"
      ],
      "metadata": {
        "colab": {
          "base_uri": "https://localhost:8080/"
        },
        "id": "nH8dgI9q2Ud0",
        "outputId": "1956dba0-3ce1-4ff8-9a01-94c341143a69"
      },
      "execution_count": null,
      "outputs": [
        {
          "output_type": "stream",
          "name": "stdout",
          "text": [
            "Statistical Summary for Surgical Steps 1:\n",
            "       L_distraction_defect_MRU  L_distraction_defect_RGU\n",
            "count                  5.000000                  5.000000\n",
            "mean                   1.838000                  2.274000\n",
            "std                    0.429791                  0.505846\n",
            "min                    1.450000                  1.670000\n",
            "25%                    1.500000                  2.000000\n",
            "50%                    1.740000                  2.200000\n",
            "75%                    2.000000                  2.500000\n",
            "max                    2.500000                  3.000000\n"
          ]
        }
      ]
    },
    {
      "cell_type": "code",
      "source": [
        "# Display the results\n",
        "print(\"Statistical Summary for Surgical Steps 2:\")\n",
        "print(describe_steps_2)"
      ],
      "metadata": {
        "colab": {
          "base_uri": "https://localhost:8080/"
        },
        "id": "Di3o_j2r2VUo",
        "outputId": "1a249d9a-0924-44cf-daca-dfe91b1fa10d"
      },
      "execution_count": null,
      "outputs": [
        {
          "output_type": "stream",
          "name": "stdout",
          "text": [
            "Statistical Summary for Surgical Steps 2:\n",
            "       L_distraction_defect_MRU  L_distraction_defect_RGU\n",
            "count                  8.000000                   8.00000\n",
            "mean                   2.453750                   2.89875\n",
            "std                    0.684521                   0.92487\n",
            "min                    1.830000                   1.96000\n",
            "25%                    1.885000                   2.26500\n",
            "50%                    2.360000                   2.65000\n",
            "75%                    2.672500                   3.16000\n",
            "max                    3.850000                   4.59000\n"
          ]
        }
      ]
    },
    {
      "cell_type": "code",
      "source": [
        "# Display the results\n",
        "print(\"Statistical Summary for Surgical Steps 3:\")\n",
        "print(describe_steps_3)"
      ],
      "metadata": {
        "colab": {
          "base_uri": "https://localhost:8080/"
        },
        "id": "PI6Fs2qZ2WFW",
        "outputId": "4d8d68c7-265f-49af-cf11-2718f32fcd96"
      },
      "execution_count": null,
      "outputs": [
        {
          "output_type": "stream",
          "name": "stdout",
          "text": [
            "Statistical Summary for Surgical Steps 3:\n",
            "       L_distraction_defect_MRU  L_distraction_defect_RGU\n",
            "count                  2.000000                  2.000000\n",
            "mean                   3.400000                  4.000000\n",
            "std                    0.848528                  0.707107\n",
            "min                    2.800000                  3.500000\n",
            "25%                    3.100000                  3.750000\n",
            "50%                    3.400000                  4.000000\n",
            "75%                    3.700000                  4.250000\n",
            "max                    4.000000                  4.500000\n"
          ]
        }
      ]
    },
    {
      "cell_type": "code",
      "source": [
        "# Display the results\n",
        "print(\"Statistical Summary for Surgical Steps 4:\")\n",
        "print(describe_steps_4)"
      ],
      "metadata": {
        "colab": {
          "base_uri": "https://localhost:8080/"
        },
        "id": "QaW2uXwF2Wsw",
        "outputId": "b7b19cae-cd26-45cb-e01d-4a9fbb565f05"
      },
      "execution_count": null,
      "outputs": [
        {
          "output_type": "stream",
          "name": "stdout",
          "text": [
            "Statistical Summary for Surgical Steps 4:\n",
            "       L_distraction_defect_MRU  L_distraction_defect_RGU\n",
            "count                  5.000000                  5.000000\n",
            "mean                   3.608000                  3.862000\n",
            "std                    1.601427                  1.412876\n",
            "min                    1.770000                  2.260000\n",
            "25%                    1.960000                  2.400000\n",
            "50%                    4.500000                  4.600000\n",
            "75%                    4.860000                  4.900000\n",
            "max                    4.950000                  5.150000\n"
          ]
        }
      ]
    },
    {
      "cell_type": "code",
      "source": [
        "# Extract only count and mean for each surgical step\n",
        "count_mean_steps_1 = describe_steps_1.loc[['count', 'mean']]\n",
        "count_mean_steps_2 = describe_steps_2.loc[['count', 'mean']]\n",
        "count_mean_steps_3 = describe_steps_3.loc[['count', 'mean']]\n",
        "count_mean_steps_4 = describe_steps_4.loc[['count', 'mean']]\n",
        "\n",
        "# Display the results\n",
        "print(\"Count and Mean for Surgical Steps 1:\")\n",
        "print(count_mean_steps_1)\n",
        "\n",
        "print(\"\\nCount and Mean for Surgical Steps 2:\")\n",
        "print(count_mean_steps_2)\n",
        "\n",
        "print(\"\\nCount and Mean for Surgical Steps 3:\")\n",
        "print(count_mean_steps_3)\n",
        "\n",
        "print(\"\\nCount and Mean for Surgical Steps 4:\")\n",
        "print(count_mean_steps_4)"
      ],
      "metadata": {
        "id": "pBEaQsk-2gr_",
        "colab": {
          "base_uri": "https://localhost:8080/"
        },
        "outputId": "e18aaed2-5207-4f29-844a-9580853c0dfc"
      },
      "execution_count": null,
      "outputs": [
        {
          "output_type": "stream",
          "name": "stdout",
          "text": [
            "Count and Mean for Surgical Steps 1:\n",
            "       L_distraction_defect_MRU  L_distraction_defect_RGU\n",
            "count                     5.000                     5.000\n",
            "mean                      1.838                     2.274\n",
            "\n",
            "Count and Mean for Surgical Steps 2:\n",
            "       L_distraction_defect_MRU  L_distraction_defect_RGU\n",
            "count                   8.00000                   8.00000\n",
            "mean                    2.45375                   2.89875\n",
            "\n",
            "Count and Mean for Surgical Steps 3:\n",
            "       L_distraction_defect_MRU  L_distraction_defect_RGU\n",
            "count                       2.0                       2.0\n",
            "mean                        3.4                       4.0\n",
            "\n",
            "Count and Mean for Surgical Steps 4:\n",
            "       L_distraction_defect_MRU  L_distraction_defect_RGU\n",
            "count                     5.000                     5.000\n",
            "mean                      3.608                     3.862\n"
          ]
        }
      ]
    },
    {
      "cell_type": "code",
      "source": [
        "# Calculate the new means for combined surgical steps 1 and 2\n",
        "mean_steps_1_2_L_distraction_defect_MRU = (1.838 + 2.45375) / 2\n",
        "mean_steps_1_2_L_distraction_defect_RGU = (2.274 + 2.89875) / 2\n",
        "\n",
        "# Calculate the new means for combined surgical steps 3 and 4\n",
        "mean_steps_3_4_L_distraction_defect_MRU = (3.4 + 3.608) / 2\n",
        "mean_steps_3_4_L_distraction_defect_RGU = (4.0 + 3.862) / 2\n",
        "\n",
        "# Create new DataFrames for the combined groups\n",
        "combined_steps_1_2 = pd.DataFrame({\n",
        "    'L_distraction_defect_MRU': [mean_steps_1_2_L_distraction_defect_MRU],\n",
        "    'L_distraction_defect_RGU': [mean_steps_1_2_L_distraction_defect_RGU]\n",
        "}, index=['mean'])\n",
        "\n",
        "combined_steps_3_4 = pd.DataFrame({\n",
        "    'L_distraction_defect_MRU': [mean_steps_3_4_L_distraction_defect_MRU],\n",
        "    'L_distraction_defect_RGU': [mean_steps_3_4_L_distraction_defect_RGU]\n",
        "}, index=['mean'])\n",
        "\n",
        "# Display the results\n",
        "print(\"New Mean for Combined Surgical Steps 1 and 2:\")\n",
        "print(combined_steps_1_2)\n",
        "\n",
        "print(\"\\nNew Mean for Combined Surgical Steps 3 and 4:\")\n",
        "print(combined_steps_3_4)"
      ],
      "metadata": {
        "colab": {
          "base_uri": "https://localhost:8080/"
        },
        "id": "Mu_T8cPaHsAT",
        "outputId": "f12c8966-fec5-4e47-ae71-5b1e6626fd0e"
      },
      "execution_count": null,
      "outputs": [
        {
          "output_type": "stream",
          "name": "stdout",
          "text": [
            "New Mean for Combined Surgical Steps 1 and 2:\n",
            "      L_distraction_defect_MRU  L_distraction_defect_RGU\n",
            "mean                  2.145875                  2.586375\n",
            "\n",
            "New Mean for Combined Surgical Steps 3 and 4:\n",
            "      L_distraction_defect_MRU  L_distraction_defect_RGU\n",
            "mean                     3.504                     3.931\n"
          ]
        }
      ]
    },
    {
      "cell_type": "code",
      "source": [
        "# Separate the data based on the surgical_steps value\n",
        "surgical_steps = {}\n",
        "for step in ruf4['Surgical_Steps'].unique():\n",
        "    surgical_steps[step] = ruf4[ruf4['Surgical_Steps'] == step].drop(columns='Surgical_Steps')"
      ],
      "metadata": {
        "id": "noNsRa1hYyMC"
      },
      "execution_count": null,
      "outputs": []
    },
    {
      "cell_type": "code",
      "source": [],
      "metadata": {
        "id": "BG5HOGiaZhtf"
      },
      "execution_count": null,
      "outputs": []
    },
    {
      "cell_type": "code",
      "source": [
        "#yo chai data combine garera nikaleko mean mathiko jasto mean average naliera sidhai data batai garkeo\n",
        "\n",
        "from scipy.stats import mannwhitneyu\n",
        "\n",
        "# Combine data for Surgical Steps 1 and 2\n",
        "combined_data_1_2 = pd.concat([surgical_steps_1, surgical_steps_2])\n",
        "\n",
        "# Combine data for Surgical Steps 3 and 4\n",
        "combined_data_3_4 = pd.concat([surgical_steps_3, surgical_steps_4])\n",
        "\n",
        "# Calculate the new means for combined groups\n",
        "mean_steps_1_2_L_distraction_defect_MRU = combined_data_1_2['L_distraction_defect_MRU'].mean()\n",
        "mean_steps_1_2_L_distraction_defect_RGU = combined_data_1_2['L_distraction_defect_RGU'].mean()\n",
        "\n",
        "mean_steps_3_4_L_distraction_defect_MRU = combined_data_3_4['L_distraction_defect_MRU'].mean()\n",
        "mean_steps_3_4_L_distraction_defect_RGU = combined_data_3_4['L_distraction_defect_RGU'].mean()\n",
        "\n",
        "# Display the new means\n",
        "combined_steps_1_2 = pd.DataFrame({\n",
        "    'L_distraction_defect_MRU': [mean_steps_1_2_L_distraction_defect_MRU],\n",
        "    'L_distraction_defect_RGU': [mean_steps_1_2_L_distraction_defect_RGU]\n",
        "}, index=['mean'])\n",
        "\n",
        "combined_steps_3_4 = pd.DataFrame({\n",
        "    'L_distraction_defect_MRU': [mean_steps_3_4_L_distraction_defect_MRU],\n",
        "    'L_distraction_defect_RGU': [mean_steps_3_4_L_distraction_defect_RGU]\n",
        "}, index=['mean'])\n",
        "\n",
        "print(\"New Mean for Combined Surgical Steps 1 and 2:\")\n",
        "print(combined_steps_1_2)\n",
        "\n",
        "print(\"\\nNew Mean for Combined Surgical Steps 3 and 4:\")\n",
        "print(combined_steps_3_4)"
      ],
      "metadata": {
        "colab": {
          "base_uri": "https://localhost:8080/"
        },
        "id": "iP10To91Z4dc",
        "outputId": "7f2db5f5-e179-4d0c-c2e8-73ec149fe5cf"
      },
      "execution_count": null,
      "outputs": [
        {
          "output_type": "stream",
          "name": "stdout",
          "text": [
            "New Mean for Combined Surgical Steps 1 and 2:\n",
            "      L_distraction_defect_MRU  L_distraction_defect_RGU\n",
            "mean                  2.216923                  2.658462\n",
            "\n",
            "New Mean for Combined Surgical Steps 3 and 4:\n",
            "      L_distraction_defect_MRU  L_distraction_defect_RGU\n",
            "mean                  3.548571                  3.901429\n"
          ]
        }
      ]
    },
    {
      "cell_type": "code",
      "source": [
        "#ani mathillo steps ma combine gareko data ko adhar ma\n",
        "from scipy.stats import mannwhitneyu\n",
        "\n",
        "# Mann-Whitney U Test function\n",
        "def mann_whitney_test(data1, data2):\n",
        "    stat, p = mannwhitneyu(data1, data2, alternative='two-sided')\n",
        "    return stat, p\n",
        "\n",
        "# Perform Mann-Whitney U test for combined groups 1 and 2\n",
        "stat_MRU_1_2, p_MRU_1_2 = mann_whitney_test(\n",
        "    combined_data_1_2['L_distraction_defect_MRU'],\n",
        "    combined_data_1_2['L_distraction_defect_RGU']\n",
        ")\n",
        "stat_RGU_1_2, p_RGU_1_2 = mann_whitney_test(\n",
        "    combined_data_1_2['L_distraction_defect_RGU'],\n",
        "    combined_data_1_2['L_distraction_defect_MRU']\n",
        ")\n",
        "\n",
        "# Perform Mann-Whitney U test for combined groups 3 and 4\n",
        "stat_MRU_3_4, p_MRU_3_4 = mann_whitney_test(\n",
        "    combined_data_3_4['L_distraction_defect_MRU'],\n",
        "    combined_data_3_4['L_distraction_defect_RGU']\n",
        ")\n",
        "stat_RGU_3_4, p_RGU_3_4 = mann_whitney_test(\n",
        "    combined_data_3_4['L_distraction_defect_RGU'],\n",
        "    combined_data_3_4['L_distraction_defect_MRU']\n",
        ")\n",
        "\n",
        "# Display results\n",
        "print(\"Mann-Whitney Result for Surgical Steps 1 and 2 Combination:\")\n",
        "print(f\"L_distraction_defect_MRU vs L_distraction_defect_RGU\")\n",
        "print(f\"U Statistic: {stat_MRU_1_2:.2f}\")\n",
        "print(f\"p-Value: {p_MRU_1_2:.4f}\\n\")\n",
        "\n",
        "print(\"Mann-Whitney Result for Surgical Steps 3 and 4 Combination:\")\n",
        "print(f\"L_distraction_defect_MRU vs L_distraction_defect_RGU\")\n",
        "print(f\"U Statistic: {stat_MRU_3_4:.2f}\")\n",
        "print(f\"p-Value: {p_MRU_3_4:.4f}\")"
      ],
      "metadata": {
        "colab": {
          "base_uri": "https://localhost:8080/"
        },
        "id": "c7E3DiUccfuE",
        "outputId": "07fab731-4bef-4cab-cf07-6725c8c88545"
      },
      "execution_count": null,
      "outputs": [
        {
          "output_type": "stream",
          "name": "stdout",
          "text": [
            "Mann-Whitney Result for Surgical Steps 1 and 2 Combination:\n",
            "L_distraction_defect_MRU vs L_distraction_defect_RGU\n",
            "U Statistic: 52.50\n",
            "p-Value: 0.1060\n",
            "\n",
            "Mann-Whitney Result for Surgical Steps 3 and 4 Combination:\n",
            "L_distraction_defect_MRU vs L_distraction_defect_RGU\n",
            "U Statistic: 19.50\n",
            "p-Value: 0.5649\n"
          ]
        }
      ]
    },
    {
      "cell_type": "code",
      "source": [],
      "metadata": {
        "id": "tcXc3Z63ls9f"
      },
      "execution_count": null,
      "outputs": []
    },
    {
      "cell_type": "code",
      "source": [],
      "metadata": {
        "id": "zyYfN1tHltAe"
      },
      "execution_count": null,
      "outputs": []
    },
    {
      "cell_type": "code",
      "source": [],
      "metadata": {
        "id": "EJvIxJlBltDL"
      },
      "execution_count": null,
      "outputs": []
    },
    {
      "cell_type": "code",
      "source": [
        "# Upload csv file to colab for using it\n",
        "upload_file = files.upload()"
      ],
      "metadata": {
        "colab": {
          "base_uri": "https://localhost:8080/",
          "height": 73
        },
        "id": "-Bm1EwQAlT-B",
        "outputId": "051cc85a-12ea-4587-cc65-c2ba73ba3002"
      },
      "execution_count": null,
      "outputs": [
        {
          "output_type": "display_data",
          "data": {
            "text/plain": [
              "<IPython.core.display.HTML object>"
            ],
            "text/html": [
              "\n",
              "     <input type=\"file\" id=\"files-ad219097-2d8c-42c4-9166-3f4fe9710e44\" name=\"files[]\" multiple disabled\n",
              "        style=\"border:none\" />\n",
              "     <output id=\"result-ad219097-2d8c-42c4-9166-3f4fe9710e44\">\n",
              "      Upload widget is only available when the cell has been executed in the\n",
              "      current browser session. Please rerun this cell to enable.\n",
              "      </output>\n",
              "      <script>// Copyright 2017 Google LLC\n",
              "//\n",
              "// Licensed under the Apache License, Version 2.0 (the \"License\");\n",
              "// you may not use this file except in compliance with the License.\n",
              "// You may obtain a copy of the License at\n",
              "//\n",
              "//      http://www.apache.org/licenses/LICENSE-2.0\n",
              "//\n",
              "// Unless required by applicable law or agreed to in writing, software\n",
              "// distributed under the License is distributed on an \"AS IS\" BASIS,\n",
              "// WITHOUT WARRANTIES OR CONDITIONS OF ANY KIND, either express or implied.\n",
              "// See the License for the specific language governing permissions and\n",
              "// limitations under the License.\n",
              "\n",
              "/**\n",
              " * @fileoverview Helpers for google.colab Python module.\n",
              " */\n",
              "(function(scope) {\n",
              "function span(text, styleAttributes = {}) {\n",
              "  const element = document.createElement('span');\n",
              "  element.textContent = text;\n",
              "  for (const key of Object.keys(styleAttributes)) {\n",
              "    element.style[key] = styleAttributes[key];\n",
              "  }\n",
              "  return element;\n",
              "}\n",
              "\n",
              "// Max number of bytes which will be uploaded at a time.\n",
              "const MAX_PAYLOAD_SIZE = 100 * 1024;\n",
              "\n",
              "function _uploadFiles(inputId, outputId) {\n",
              "  const steps = uploadFilesStep(inputId, outputId);\n",
              "  const outputElement = document.getElementById(outputId);\n",
              "  // Cache steps on the outputElement to make it available for the next call\n",
              "  // to uploadFilesContinue from Python.\n",
              "  outputElement.steps = steps;\n",
              "\n",
              "  return _uploadFilesContinue(outputId);\n",
              "}\n",
              "\n",
              "// This is roughly an async generator (not supported in the browser yet),\n",
              "// where there are multiple asynchronous steps and the Python side is going\n",
              "// to poll for completion of each step.\n",
              "// This uses a Promise to block the python side on completion of each step,\n",
              "// then passes the result of the previous step as the input to the next step.\n",
              "function _uploadFilesContinue(outputId) {\n",
              "  const outputElement = document.getElementById(outputId);\n",
              "  const steps = outputElement.steps;\n",
              "\n",
              "  const next = steps.next(outputElement.lastPromiseValue);\n",
              "  return Promise.resolve(next.value.promise).then((value) => {\n",
              "    // Cache the last promise value to make it available to the next\n",
              "    // step of the generator.\n",
              "    outputElement.lastPromiseValue = value;\n",
              "    return next.value.response;\n",
              "  });\n",
              "}\n",
              "\n",
              "/**\n",
              " * Generator function which is called between each async step of the upload\n",
              " * process.\n",
              " * @param {string} inputId Element ID of the input file picker element.\n",
              " * @param {string} outputId Element ID of the output display.\n",
              " * @return {!Iterable<!Object>} Iterable of next steps.\n",
              " */\n",
              "function* uploadFilesStep(inputId, outputId) {\n",
              "  const inputElement = document.getElementById(inputId);\n",
              "  inputElement.disabled = false;\n",
              "\n",
              "  const outputElement = document.getElementById(outputId);\n",
              "  outputElement.innerHTML = '';\n",
              "\n",
              "  const pickedPromise = new Promise((resolve) => {\n",
              "    inputElement.addEventListener('change', (e) => {\n",
              "      resolve(e.target.files);\n",
              "    });\n",
              "  });\n",
              "\n",
              "  const cancel = document.createElement('button');\n",
              "  inputElement.parentElement.appendChild(cancel);\n",
              "  cancel.textContent = 'Cancel upload';\n",
              "  const cancelPromise = new Promise((resolve) => {\n",
              "    cancel.onclick = () => {\n",
              "      resolve(null);\n",
              "    };\n",
              "  });\n",
              "\n",
              "  // Wait for the user to pick the files.\n",
              "  const files = yield {\n",
              "    promise: Promise.race([pickedPromise, cancelPromise]),\n",
              "    response: {\n",
              "      action: 'starting',\n",
              "    }\n",
              "  };\n",
              "\n",
              "  cancel.remove();\n",
              "\n",
              "  // Disable the input element since further picks are not allowed.\n",
              "  inputElement.disabled = true;\n",
              "\n",
              "  if (!files) {\n",
              "    return {\n",
              "      response: {\n",
              "        action: 'complete',\n",
              "      }\n",
              "    };\n",
              "  }\n",
              "\n",
              "  for (const file of files) {\n",
              "    const li = document.createElement('li');\n",
              "    li.append(span(file.name, {fontWeight: 'bold'}));\n",
              "    li.append(span(\n",
              "        `(${file.type || 'n/a'}) - ${file.size} bytes, ` +\n",
              "        `last modified: ${\n",
              "            file.lastModifiedDate ? file.lastModifiedDate.toLocaleDateString() :\n",
              "                                    'n/a'} - `));\n",
              "    const percent = span('0% done');\n",
              "    li.appendChild(percent);\n",
              "\n",
              "    outputElement.appendChild(li);\n",
              "\n",
              "    const fileDataPromise = new Promise((resolve) => {\n",
              "      const reader = new FileReader();\n",
              "      reader.onload = (e) => {\n",
              "        resolve(e.target.result);\n",
              "      };\n",
              "      reader.readAsArrayBuffer(file);\n",
              "    });\n",
              "    // Wait for the data to be ready.\n",
              "    let fileData = yield {\n",
              "      promise: fileDataPromise,\n",
              "      response: {\n",
              "        action: 'continue',\n",
              "      }\n",
              "    };\n",
              "\n",
              "    // Use a chunked sending to avoid message size limits. See b/62115660.\n",
              "    let position = 0;\n",
              "    do {\n",
              "      const length = Math.min(fileData.byteLength - position, MAX_PAYLOAD_SIZE);\n",
              "      const chunk = new Uint8Array(fileData, position, length);\n",
              "      position += length;\n",
              "\n",
              "      const base64 = btoa(String.fromCharCode.apply(null, chunk));\n",
              "      yield {\n",
              "        response: {\n",
              "          action: 'append',\n",
              "          file: file.name,\n",
              "          data: base64,\n",
              "        },\n",
              "      };\n",
              "\n",
              "      let percentDone = fileData.byteLength === 0 ?\n",
              "          100 :\n",
              "          Math.round((position / fileData.byteLength) * 100);\n",
              "      percent.textContent = `${percentDone}% done`;\n",
              "\n",
              "    } while (position < fileData.byteLength);\n",
              "  }\n",
              "\n",
              "  // All done.\n",
              "  yield {\n",
              "    response: {\n",
              "      action: 'complete',\n",
              "    }\n",
              "  };\n",
              "}\n",
              "\n",
              "scope.google = scope.google || {};\n",
              "scope.google.colab = scope.google.colab || {};\n",
              "scope.google.colab._files = {\n",
              "  _uploadFiles,\n",
              "  _uploadFilesContinue,\n",
              "};\n",
              "})(self);\n",
              "</script> "
            ]
          },
          "metadata": {}
        },
        {
          "output_type": "stream",
          "name": "stdout",
          "text": [
            "Saving dai_fifth.csv to dai_fifth (1).csv\n"
          ]
        }
      ]
    },
    {
      "cell_type": "code",
      "source": [
        "# Use the uploaded file in colab\n",
        "ruf5 = pd.read_csv(\"dai_fifth.csv\")\n",
        "ruf5.head()"
      ],
      "metadata": {
        "colab": {
          "base_uri": "https://localhost:8080/",
          "height": 206
        },
        "id": "bZZDQEg9lUtZ",
        "outputId": "4457af5e-6253-4d86-8fa1-eed61cfb9908"
      },
      "execution_count": null,
      "outputs": [
        {
          "output_type": "execute_result",
          "data": {
            "text/plain": [
              "   Pubourethral_vertical_distance_MRU  Surgical_Steps\n",
              "0                                3.40               1\n",
              "1                                2.15               1\n",
              "2                                1.95               1\n",
              "3                                0.90               1\n",
              "4                                0.80               2"
            ],
            "text/html": [
              "\n",
              "  <div id=\"df-5b9fc70d-7b4f-440b-b3a7-4eeebe75e4b6\" class=\"colab-df-container\">\n",
              "    <div>\n",
              "<style scoped>\n",
              "    .dataframe tbody tr th:only-of-type {\n",
              "        vertical-align: middle;\n",
              "    }\n",
              "\n",
              "    .dataframe tbody tr th {\n",
              "        vertical-align: top;\n",
              "    }\n",
              "\n",
              "    .dataframe thead th {\n",
              "        text-align: right;\n",
              "    }\n",
              "</style>\n",
              "<table border=\"1\" class=\"dataframe\">\n",
              "  <thead>\n",
              "    <tr style=\"text-align: right;\">\n",
              "      <th></th>\n",
              "      <th>Pubourethral_vertical_distance_MRU</th>\n",
              "      <th>Surgical_Steps</th>\n",
              "    </tr>\n",
              "  </thead>\n",
              "  <tbody>\n",
              "    <tr>\n",
              "      <th>0</th>\n",
              "      <td>3.40</td>\n",
              "      <td>1</td>\n",
              "    </tr>\n",
              "    <tr>\n",
              "      <th>1</th>\n",
              "      <td>2.15</td>\n",
              "      <td>1</td>\n",
              "    </tr>\n",
              "    <tr>\n",
              "      <th>2</th>\n",
              "      <td>1.95</td>\n",
              "      <td>1</td>\n",
              "    </tr>\n",
              "    <tr>\n",
              "      <th>3</th>\n",
              "      <td>0.90</td>\n",
              "      <td>1</td>\n",
              "    </tr>\n",
              "    <tr>\n",
              "      <th>4</th>\n",
              "      <td>0.80</td>\n",
              "      <td>2</td>\n",
              "    </tr>\n",
              "  </tbody>\n",
              "</table>\n",
              "</div>\n",
              "    <div class=\"colab-df-buttons\">\n",
              "\n",
              "  <div class=\"colab-df-container\">\n",
              "    <button class=\"colab-df-convert\" onclick=\"convertToInteractive('df-5b9fc70d-7b4f-440b-b3a7-4eeebe75e4b6')\"\n",
              "            title=\"Convert this dataframe to an interactive table.\"\n",
              "            style=\"display:none;\">\n",
              "\n",
              "  <svg xmlns=\"http://www.w3.org/2000/svg\" height=\"24px\" viewBox=\"0 -960 960 960\">\n",
              "    <path d=\"M120-120v-720h720v720H120Zm60-500h600v-160H180v160Zm220 220h160v-160H400v160Zm0 220h160v-160H400v160ZM180-400h160v-160H180v160Zm440 0h160v-160H620v160ZM180-180h160v-160H180v160Zm440 0h160v-160H620v160Z\"/>\n",
              "  </svg>\n",
              "    </button>\n",
              "\n",
              "  <style>\n",
              "    .colab-df-container {\n",
              "      display:flex;\n",
              "      gap: 12px;\n",
              "    }\n",
              "\n",
              "    .colab-df-convert {\n",
              "      background-color: #E8F0FE;\n",
              "      border: none;\n",
              "      border-radius: 50%;\n",
              "      cursor: pointer;\n",
              "      display: none;\n",
              "      fill: #1967D2;\n",
              "      height: 32px;\n",
              "      padding: 0 0 0 0;\n",
              "      width: 32px;\n",
              "    }\n",
              "\n",
              "    .colab-df-convert:hover {\n",
              "      background-color: #E2EBFA;\n",
              "      box-shadow: 0px 1px 2px rgba(60, 64, 67, 0.3), 0px 1px 3px 1px rgba(60, 64, 67, 0.15);\n",
              "      fill: #174EA6;\n",
              "    }\n",
              "\n",
              "    .colab-df-buttons div {\n",
              "      margin-bottom: 4px;\n",
              "    }\n",
              "\n",
              "    [theme=dark] .colab-df-convert {\n",
              "      background-color: #3B4455;\n",
              "      fill: #D2E3FC;\n",
              "    }\n",
              "\n",
              "    [theme=dark] .colab-df-convert:hover {\n",
              "      background-color: #434B5C;\n",
              "      box-shadow: 0px 1px 3px 1px rgba(0, 0, 0, 0.15);\n",
              "      filter: drop-shadow(0px 1px 2px rgba(0, 0, 0, 0.3));\n",
              "      fill: #FFFFFF;\n",
              "    }\n",
              "  </style>\n",
              "\n",
              "    <script>\n",
              "      const buttonEl =\n",
              "        document.querySelector('#df-5b9fc70d-7b4f-440b-b3a7-4eeebe75e4b6 button.colab-df-convert');\n",
              "      buttonEl.style.display =\n",
              "        google.colab.kernel.accessAllowed ? 'block' : 'none';\n",
              "\n",
              "      async function convertToInteractive(key) {\n",
              "        const element = document.querySelector('#df-5b9fc70d-7b4f-440b-b3a7-4eeebe75e4b6');\n",
              "        const dataTable =\n",
              "          await google.colab.kernel.invokeFunction('convertToInteractive',\n",
              "                                                    [key], {});\n",
              "        if (!dataTable) return;\n",
              "\n",
              "        const docLinkHtml = 'Like what you see? Visit the ' +\n",
              "          '<a target=\"_blank\" href=https://colab.research.google.com/notebooks/data_table.ipynb>data table notebook</a>'\n",
              "          + ' to learn more about interactive tables.';\n",
              "        element.innerHTML = '';\n",
              "        dataTable['output_type'] = 'display_data';\n",
              "        await google.colab.output.renderOutput(dataTable, element);\n",
              "        const docLink = document.createElement('div');\n",
              "        docLink.innerHTML = docLinkHtml;\n",
              "        element.appendChild(docLink);\n",
              "      }\n",
              "    </script>\n",
              "  </div>\n",
              "\n",
              "\n",
              "<div id=\"df-7a98e0a6-5fc4-497a-b837-870dded9d875\">\n",
              "  <button class=\"colab-df-quickchart\" onclick=\"quickchart('df-7a98e0a6-5fc4-497a-b837-870dded9d875')\"\n",
              "            title=\"Suggest charts\"\n",
              "            style=\"display:none;\">\n",
              "\n",
              "<svg xmlns=\"http://www.w3.org/2000/svg\" height=\"24px\"viewBox=\"0 0 24 24\"\n",
              "     width=\"24px\">\n",
              "    <g>\n",
              "        <path d=\"M19 3H5c-1.1 0-2 .9-2 2v14c0 1.1.9 2 2 2h14c1.1 0 2-.9 2-2V5c0-1.1-.9-2-2-2zM9 17H7v-7h2v7zm4 0h-2V7h2v10zm4 0h-2v-4h2v4z\"/>\n",
              "    </g>\n",
              "</svg>\n",
              "  </button>\n",
              "\n",
              "<style>\n",
              "  .colab-df-quickchart {\n",
              "      --bg-color: #E8F0FE;\n",
              "      --fill-color: #1967D2;\n",
              "      --hover-bg-color: #E2EBFA;\n",
              "      --hover-fill-color: #174EA6;\n",
              "      --disabled-fill-color: #AAA;\n",
              "      --disabled-bg-color: #DDD;\n",
              "  }\n",
              "\n",
              "  [theme=dark] .colab-df-quickchart {\n",
              "      --bg-color: #3B4455;\n",
              "      --fill-color: #D2E3FC;\n",
              "      --hover-bg-color: #434B5C;\n",
              "      --hover-fill-color: #FFFFFF;\n",
              "      --disabled-bg-color: #3B4455;\n",
              "      --disabled-fill-color: #666;\n",
              "  }\n",
              "\n",
              "  .colab-df-quickchart {\n",
              "    background-color: var(--bg-color);\n",
              "    border: none;\n",
              "    border-radius: 50%;\n",
              "    cursor: pointer;\n",
              "    display: none;\n",
              "    fill: var(--fill-color);\n",
              "    height: 32px;\n",
              "    padding: 0;\n",
              "    width: 32px;\n",
              "  }\n",
              "\n",
              "  .colab-df-quickchart:hover {\n",
              "    background-color: var(--hover-bg-color);\n",
              "    box-shadow: 0 1px 2px rgba(60, 64, 67, 0.3), 0 1px 3px 1px rgba(60, 64, 67, 0.15);\n",
              "    fill: var(--button-hover-fill-color);\n",
              "  }\n",
              "\n",
              "  .colab-df-quickchart-complete:disabled,\n",
              "  .colab-df-quickchart-complete:disabled:hover {\n",
              "    background-color: var(--disabled-bg-color);\n",
              "    fill: var(--disabled-fill-color);\n",
              "    box-shadow: none;\n",
              "  }\n",
              "\n",
              "  .colab-df-spinner {\n",
              "    border: 2px solid var(--fill-color);\n",
              "    border-color: transparent;\n",
              "    border-bottom-color: var(--fill-color);\n",
              "    animation:\n",
              "      spin 1s steps(1) infinite;\n",
              "  }\n",
              "\n",
              "  @keyframes spin {\n",
              "    0% {\n",
              "      border-color: transparent;\n",
              "      border-bottom-color: var(--fill-color);\n",
              "      border-left-color: var(--fill-color);\n",
              "    }\n",
              "    20% {\n",
              "      border-color: transparent;\n",
              "      border-left-color: var(--fill-color);\n",
              "      border-top-color: var(--fill-color);\n",
              "    }\n",
              "    30% {\n",
              "      border-color: transparent;\n",
              "      border-left-color: var(--fill-color);\n",
              "      border-top-color: var(--fill-color);\n",
              "      border-right-color: var(--fill-color);\n",
              "    }\n",
              "    40% {\n",
              "      border-color: transparent;\n",
              "      border-right-color: var(--fill-color);\n",
              "      border-top-color: var(--fill-color);\n",
              "    }\n",
              "    60% {\n",
              "      border-color: transparent;\n",
              "      border-right-color: var(--fill-color);\n",
              "    }\n",
              "    80% {\n",
              "      border-color: transparent;\n",
              "      border-right-color: var(--fill-color);\n",
              "      border-bottom-color: var(--fill-color);\n",
              "    }\n",
              "    90% {\n",
              "      border-color: transparent;\n",
              "      border-bottom-color: var(--fill-color);\n",
              "    }\n",
              "  }\n",
              "</style>\n",
              "\n",
              "  <script>\n",
              "    async function quickchart(key) {\n",
              "      const quickchartButtonEl =\n",
              "        document.querySelector('#' + key + ' button');\n",
              "      quickchartButtonEl.disabled = true;  // To prevent multiple clicks.\n",
              "      quickchartButtonEl.classList.add('colab-df-spinner');\n",
              "      try {\n",
              "        const charts = await google.colab.kernel.invokeFunction(\n",
              "            'suggestCharts', [key], {});\n",
              "      } catch (error) {\n",
              "        console.error('Error during call to suggestCharts:', error);\n",
              "      }\n",
              "      quickchartButtonEl.classList.remove('colab-df-spinner');\n",
              "      quickchartButtonEl.classList.add('colab-df-quickchart-complete');\n",
              "    }\n",
              "    (() => {\n",
              "      let quickchartButtonEl =\n",
              "        document.querySelector('#df-7a98e0a6-5fc4-497a-b837-870dded9d875 button');\n",
              "      quickchartButtonEl.style.display =\n",
              "        google.colab.kernel.accessAllowed ? 'block' : 'none';\n",
              "    })();\n",
              "  </script>\n",
              "</div>\n",
              "\n",
              "    </div>\n",
              "  </div>\n"
            ],
            "application/vnd.google.colaboratory.intrinsic+json": {
              "type": "dataframe",
              "variable_name": "ruf5",
              "summary": "{\n  \"name\": \"ruf5\",\n  \"rows\": 20,\n  \"fields\": [\n    {\n      \"column\": \"Pubourethral_vertical_distance_MRU\",\n      \"properties\": {\n        \"dtype\": \"number\",\n        \"std\": 0.6331832693869753,\n        \"min\": 0.75,\n        \"max\": 3.4,\n        \"num_unique_values\": 18,\n        \"samples\": [\n          3.4,\n          2.15,\n          1.01\n        ],\n        \"semantic_type\": \"\",\n        \"description\": \"\"\n      }\n    },\n    {\n      \"column\": \"Surgical_Steps\",\n      \"properties\": {\n        \"dtype\": \"number\",\n        \"std\": 0,\n        \"min\": 1,\n        \"max\": 2,\n        \"num_unique_values\": 2,\n        \"samples\": [\n          2,\n          1\n        ],\n        \"semantic_type\": \"\",\n        \"description\": \"\"\n      }\n    }\n  ]\n}"
            }
          },
          "metadata": {},
          "execution_count": 88
        }
      ]
    },
    {
      "cell_type": "code",
      "source": [
        "# Check column names to ensure 'Surgical_Steps' is correctly referenced\n",
        "print(\"Columns in DataFrame:\", ruf5.columns)\n",
        "\n",
        "# Strip any leading/trailing spaces from the column names to avoid referencing issues\n",
        "ruf5.columns = ruf5.columns.str.strip()"
      ],
      "metadata": {
        "colab": {
          "base_uri": "https://localhost:8080/"
        },
        "id": "dYiMVyF7lh6r",
        "outputId": "d456c42d-146b-4b79-c29d-09aab23ead0c"
      },
      "execution_count": null,
      "outputs": [
        {
          "output_type": "stream",
          "name": "stdout",
          "text": [
            "Columns in DataFrame: Index(['Pubourethral_vertical_distance_MRU', 'Surgical_Steps'], dtype='object')\n"
          ]
        }
      ]
    },
    {
      "cell_type": "code",
      "source": [
        "# Separate the data based on the surgical_steps value\n",
        "surgical_steps_1 = ruf5[ruf5['Surgical_Steps'] == 1]\n",
        "surgical_steps_2 = ruf5[ruf5['Surgical_Steps'] == 2]\n",
        "\n",
        "\n",
        "# Remove 'Surgical_Steps' column from calculation\n",
        "surgical_steps_1 = surgical_steps_1.drop(columns='Surgical_Steps')\n",
        "surgical_steps_2 = surgical_steps_2.drop(columns='Surgical_Steps')\n",
        "\n",
        "\n",
        "# Use describe function to get statistical summary for both groups\n",
        "describe_steps_1 = surgical_steps_1.describe()\n",
        "describe_steps_2 = surgical_steps_2.describe()\n",
        "\n",
        "\n",
        "# Display the results\n",
        "print(\"Statistical Summary for Surgical Steps 1:\")\n",
        "print(describe_steps_1)"
      ],
      "metadata": {
        "id": "usRSsf3PmGPj",
        "colab": {
          "base_uri": "https://localhost:8080/"
        },
        "outputId": "e2650822-1ef4-42a8-a30c-d5f35f03cf34"
      },
      "execution_count": null,
      "outputs": [
        {
          "output_type": "stream",
          "name": "stdout",
          "text": [
            "Statistical Summary for Surgical Steps 1:\n",
            "       Pubourethral_vertical_distance_MRU\n",
            "count                           13.000000\n",
            "mean                             1.731538\n",
            "std                              0.660869\n",
            "min                              0.900000\n",
            "25%                              1.400000\n",
            "50%                              1.600000\n",
            "75%                              2.000000\n",
            "max                              3.400000\n"
          ]
        }
      ]
    },
    {
      "cell_type": "code",
      "source": [
        "# Display the results\n",
        "print(\"Statistical Summary for Surgical Steps 2:\")\n",
        "print(describe_steps_2)"
      ],
      "metadata": {
        "colab": {
          "base_uri": "https://localhost:8080/"
        },
        "id": "lNTOqJdOmcYW",
        "outputId": "e307a035-5a39-4916-b741-1e96c1229bee"
      },
      "execution_count": null,
      "outputs": [
        {
          "output_type": "stream",
          "name": "stdout",
          "text": [
            "Statistical Summary for Surgical Steps 2:\n",
            "       Pubourethral_vertical_distance_MRU\n",
            "count                            7.000000\n",
            "mean                             1.112857\n",
            "std                              0.325306\n",
            "min                              0.750000\n",
            "25%                              0.800000\n",
            "50%                              1.200000\n",
            "75%                              1.350000\n",
            "max                              1.540000\n"
          ]
        }
      ]
    },
    {
      "cell_type": "code",
      "source": [
        "# Extract only count and mean for each surgical step\n",
        "count_mean_steps_1 = describe_steps_1.loc[['count', 'mean']]\n",
        "count_mean_steps_2 = describe_steps_2.loc[['count', 'mean']]\n",
        "\n",
        "# Display the results\n",
        "print(\"Count and Mean for Surgical Steps 1:\")\n",
        "print(count_mean_steps_1)\n",
        "\n",
        "print(\"\\nCount and Mean for Surgical Steps 2:\")\n",
        "print(count_mean_steps_2)"
      ],
      "metadata": {
        "colab": {
          "base_uri": "https://localhost:8080/"
        },
        "id": "4zIsc1B4mfuh",
        "outputId": "61b48157-6399-4944-ace4-380bbed43907"
      },
      "execution_count": null,
      "outputs": [
        {
          "output_type": "stream",
          "name": "stdout",
          "text": [
            "Count and Mean for Surgical Steps 1:\n",
            "       Pubourethral_vertical_distance_MRU\n",
            "count                           13.000000\n",
            "mean                             1.731538\n",
            "\n",
            "Count and Mean for Surgical Steps 2:\n",
            "       Pubourethral_vertical_distance_MRU\n",
            "count                            7.000000\n",
            "mean                             1.112857\n"
          ]
        }
      ]
    },
    {
      "cell_type": "code",
      "source": [
        "# Calculate mean values for each surgical step\n",
        "mean_steps_1 = count_mean_steps_1.loc['mean'].values[0]\n",
        "mean_steps_2 = count_mean_steps_2.loc['mean'].values[0]\n",
        "\n",
        "# Count the number of values less than and greater than the mean for each surgical step\n",
        "less_than_mean_steps_1 = (surgical_steps_1['Pubourethral_vertical_distance_MRU'] < mean_steps_1).sum()\n",
        "greater_than_mean_steps_1 = (surgical_steps_1['Pubourethral_vertical_distance_MRU'] > mean_steps_1).sum()\n",
        "\n",
        "less_than_mean_steps_2 = (surgical_steps_2['Pubourethral_vertical_distance_MRU'] < mean_steps_2).sum()\n",
        "greater_than_mean_steps_2 = (surgical_steps_2['Pubourethral_vertical_distance_MRU'] > mean_steps_2).sum()\n",
        "\n",
        "# Display the results\n",
        "print(f\"\\nSurgical Steps = 1\")\n",
        "print(f\"Number of values less than mean value(FN): {less_than_mean_steps_1}\")\n",
        "print(f\"Number of values greater than mean value(TN): {greater_than_mean_steps_1}\")\n",
        "\n",
        "print(f\"\\nSurgical Steps = 2\")\n",
        "print(f\"Number of values less than mean value(TP): {less_than_mean_steps_2}\")\n",
        "print(f\"Number of values greater than mean value(FP): {greater_than_mean_steps_2}\")"
      ],
      "metadata": {
        "colab": {
          "base_uri": "https://localhost:8080/"
        },
        "id": "nqVbXT9ZmldX",
        "outputId": "c97aa523-76b1-4d7c-9d4a-c7ae05d5d301"
      },
      "execution_count": null,
      "outputs": [
        {
          "output_type": "stream",
          "name": "stdout",
          "text": [
            "\n",
            "Surgical Steps = 1\n",
            "Number of values less than mean value(FN): 7\n",
            "Number of values greater than mean value(TN): 6\n",
            "\n",
            "Surgical Steps = 2\n",
            "Number of values less than mean value(TP): 3\n",
            "Number of values greater than mean value(FP): 4\n"
          ]
        }
      ]
    },
    {
      "cell_type": "code",
      "source": [
        "# Calculate the fixed threshold value\n",
        "threshold_value = 1.44\n",
        "\n",
        "# Count the number of values less than and greater than the fixed threshold for each surgical step\n",
        "less_than_threshold_steps_1 = (surgical_steps_1['Pubourethral_vertical_distance_MRU'] < threshold_value).sum()\n",
        "greater_than_threshold_steps_1 = (surgical_steps_1['Pubourethral_vertical_distance_MRU'] > threshold_value).sum()\n",
        "\n",
        "less_than_threshold_steps_2 = (surgical_steps_2['Pubourethral_vertical_distance_MRU'] < threshold_value).sum()\n",
        "greater_than_threshold_steps_2 = (surgical_steps_2['Pubourethral_vertical_distance_MRU'] > threshold_value).sum()\n",
        "\n",
        "# Display the results\n",
        "print(f\"\\nSurgical Steps = 1\")\n",
        "print(f\"Number of values less than threshold value (FN): {less_than_threshold_steps_1}\")\n",
        "print(f\"Number of values greater than threshold value (TN): {greater_than_threshold_steps_1}\")\n",
        "\n",
        "print(f\"\\nSurgical Steps = 2\")\n",
        "print(f\"Number of values less than threshold value (TP): {less_than_threshold_steps_2}\")\n",
        "print(f\"Number of values greater than threshold value (FP): {greater_than_threshold_steps_2}\")"
      ],
      "metadata": {
        "colab": {
          "base_uri": "https://localhost:8080/"
        },
        "id": "uB9xTs95wnk3",
        "outputId": "58d2f7c1-a544-453a-d302-25751b6cee0a"
      },
      "execution_count": null,
      "outputs": [
        {
          "output_type": "stream",
          "name": "stdout",
          "text": [
            "\n",
            "Surgical Steps = 1\n",
            "Number of values less than threshold value (FN): 5\n",
            "Number of values greater than threshold value (TN): 8\n",
            "\n",
            "Surgical Steps = 2\n",
            "Number of values less than threshold value (TP): 6\n",
            "Number of values greater than threshold value (FP): 1\n"
          ]
        }
      ]
    },
    {
      "cell_type": "code",
      "source": [
        "from scipy import stats\n",
        "# Perform Mann-Whitney U test comparing the two groups\n",
        "from scipy.stats import mannwhitneyu\n",
        "u_statistic, p_value = stats.mannwhitneyu(\n",
        "    surgical_steps_1['Pubourethral_vertical_distance_MRU'],\n",
        "    surgical_steps_2['Pubourethral_vertical_distance_MRU']\n",
        ")\n",
        "\n",
        "# Display the results\n",
        "print(\"Mann-Whitney Result for Comparison of Surgical Steps 1 and 2:\")\n",
        "print(\"Pubourethral_vertical_distance_MRU vs Surgical Steps 1 vs Surgical Steps 2\")\n",
        "print(\"U Statistic:\", u_statistic)\n",
        "print(\"p-Value:\", p_value)"
      ],
      "metadata": {
        "colab": {
          "base_uri": "https://localhost:8080/"
        },
        "id": "xSY_3Tjdn5ik",
        "outputId": "1a216c4a-92fc-4558-8342-19e13a19e0a5"
      },
      "execution_count": null,
      "outputs": [
        {
          "output_type": "stream",
          "name": "stdout",
          "text": [
            "Mann-Whitney Result for Comparison of Surgical Steps 1 and 2:\n",
            "Pubourethral_vertical_distance_MRU vs Surgical Steps 1 vs Surgical Steps 2\n",
            "U Statistic: 75.5\n",
            "p-Value: 0.019313462355331712\n"
          ]
        }
      ]
    },
    {
      "cell_type": "code",
      "source": [
        "#when the average is taken for both surgical steps value for mean TN, FN , TP , FP.\n",
        "import matplotlib.pyplot as plt\n",
        "from sklearn.metrics import roc_curve, auc\n",
        "\n",
        "# Updated values\n",
        "TP = 6\n",
        "FN = 5\n",
        "TN = 8\n",
        "FP = 1\n",
        "\n",
        "\n",
        "# Sensitivity and Specificity\n",
        "sensitivity = TP / (TP + FN)\n",
        "specificity = TN / (TN + FP)\n",
        "\n",
        "# Plotting the ROC curve\n",
        "# For simplicity, let's use these values as the ROC points\n",
        "fpr = [0, 1 - specificity, 1]  # False Positive Rate\n",
        "tpr = [0, sensitivity, 1]      # True Positive Rate\n",
        "\n",
        "# Compute AUC\n",
        "roc_auc = auc(fpr, tpr)\n",
        "\n",
        "# Plot ROC curve\n",
        "plt.figure()\n",
        "plt.plot(fpr, tpr, color='darkorange', lw=2, label=f'ROC curve (area = {roc_auc:.2f})')\n",
        "plt.plot([0, 1], [0, 1], color='navy', lw=2, linestyle='--')\n",
        "plt.xlim([0.0, 1.0])\n",
        "plt.ylim([0.0, 1.05])\n",
        "plt.xlabel('False Positive Rate')\n",
        "plt.ylabel('True Positive Rate')\n",
        "plt.title('Receiver Operating Characteristic (ROC)')\n",
        "plt.legend(loc='lower right')\n",
        "plt.show()\n",
        "\n",
        "# Print Sensitivity and AUC\n",
        "print(f\"Sensitivity: {sensitivity:.3f}\")\n",
        "print(f\"AUC: {roc_auc:.3f}\")"
      ],
      "metadata": {
        "colab": {
          "base_uri": "https://localhost:8080/",
          "height": 508
        },
        "id": "6CptfxXqx4k_",
        "outputId": "20073b62-64f5-4146-b84b-b197eef6f6b0"
      },
      "execution_count": null,
      "outputs": [
        {
          "output_type": "display_data",
          "data": {
            "text/plain": [
              "<Figure size 640x480 with 1 Axes>"
            ],
            "image/png": "[encoded data removed]"
          },
          "metadata": {}
        },
        {
          "output_type": "stream",
          "name": "stdout",
          "text": [
            "Sensitivity: 0.545\n",
            "AUC: 0.717\n"
          ]
        }
      ]
    },
    {
      "cell_type": "code",
      "source": [
        "# Plot distribution plots with normal distribution curve\n",
        "columns_to_plot = ruf5.columns[:-1]  # Exclude 'Surgical_Steps'\n",
        "\n",
        "# plt.figure(figsize=(10, 20))\n",
        "\n",
        "for i, col in enumerate(columns_to_plot, 1):\n",
        "    plt.subplot(len(columns_to_plot), 1, i)  # Create a vertical layout\n",
        "    sns.distplot(ruf5[col], fit=norm, kde=False)\n",
        "    plt.title(f'Distribution of {col}')\n",
        "    plt.xlabel(col)\n",
        "    plt.ylabel('Frequency (occurrences)')\n",
        "\n",
        "plt.tight_layout()\n",
        "plt.show()"
      ],
      "metadata": {
        "id": "YAuNlhl70PEn",
        "colab": {
          "base_uri": "https://localhost:8080/",
          "height": 688
        },
        "outputId": "4f447d1f-3457-46a9-8d7d-460b7c2e0537"
      },
      "execution_count": null,
      "outputs": [
        {
          "output_type": "stream",
          "name": "stderr",
          "text": [
            "<ipython-input-112-0396f224b63b>:8: UserWarning: \n",
            "\n",
            "`distplot` is a deprecated function and will be removed in seaborn v0.14.0.\n",
            "\n",
            "Please adapt your code to use either `displot` (a figure-level function with\n",
            "similar flexibility) or `histplot` (an axes-level function for histograms).\n",
            "\n",
            "For a guide to updating your code to use the new functions, please see\n",
            "https://gist.github.com/mwaskom/de44147ed2974457ad6372750bbe5751\n",
            "\n",
            "  sns.distplot(ruf5[col], fit=norm, kde=False)\n"
          ]
        },
        {
          "output_type": "display_data",
          "data": {
            "text/plain": [
              "<Figure size 640x480 with 1 Axes>"
            ],
            "image/png": "[encoded data removed]"
          },
          "metadata": {}
        }
      ]
    },
    {
      "cell_type": "code",
      "source": [],
      "metadata": {
        "id": "yVBKx-BNmf6A"
      },
      "execution_count": null,
      "outputs": []
    }
  ]
}